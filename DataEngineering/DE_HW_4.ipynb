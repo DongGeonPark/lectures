{
 "cells": [
  {
   "cell_type": "code",
   "execution_count": 26,
   "id": "9928198f-5cbe-4e99-aeb2-6bcec4db4bf8",
   "metadata": {},
   "outputs": [
    {
     "name": "stdout",
     "output_type": "stream",
     "text": [
      "당신의 조선시대 이름은 박복장입니다.\n"
     ]
    }
   ],
   "source": [
    "#3\n",
    "def get_my_chosun_name(family_name, month, day):\n",
    "    #1\n",
    "    first = ['쌍', '쇠', '복', '돌', '팽', '육', '쌍', '개', '칠', '갑', '삼', '방'] \n",
    "    #2\n",
    "    second = ['봉', '구', '욕', '포', '똥', '삼', '식', '석', '놈', '님', '년', '돌', '단', '득', '방', '질', '장', '걸', '래', '룡', '동', '순', '자', '박', '창', '언', '것', '포', '만', '단', '국']\n",
    "    #3\n",
    "    chosun_name = family_name + first[month-1] + second[day-1]\n",
    "    print(\"당신의 조선시대 이름은 %s입니다.\" %chosun_name)\n",
    "    \n",
    "get_my_chosun_name('박',3,17)"
   ]
  }
 ],
 "metadata": {
  "kernelspec": {
   "display_name": "Python 3",
   "language": "python",
   "name": "python3"
  },
  "language_info": {
   "codemirror_mode": {
    "name": "ipython",
    "version": 3
   },
   "file_extension": ".py",
   "mimetype": "text/x-python",
   "name": "python",
   "nbconvert_exporter": "python",
   "pygments_lexer": "ipython3",
   "version": "3.8.8"
  }
 },
 "nbformat": 4,
 "nbformat_minor": 5
}

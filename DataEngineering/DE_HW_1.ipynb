{
 "cells": [
  {
   "cell_type": "code",
   "execution_count": 20,
   "id": "18ed2f34-6cc0-40c7-941c-d5c5570cc2ad",
   "metadata": {},
   "outputs": [],
   "source": [
    "#Task1\n",
    "lovely_loveseat_description = \"Lovely Loveseat. Tufted polyester blend on wood. 32 inches high x 40 inches wide x 30 inches deep. Red or white.\""
   ]
  },
  {
   "cell_type": "code",
   "execution_count": 21,
   "id": "9941f7e9-9db4-470a-8576-91453372dcc9",
   "metadata": {},
   "outputs": [],
   "source": [
    "#Task2\n",
    "lovely_loveseat_price = 254.00"
   ]
  },
  {
   "cell_type": "code",
   "execution_count": 22,
   "id": "47c1d2df-e8fd-4716-8382-fb114a231d41",
   "metadata": {},
   "outputs": [],
   "source": [
    "#Task3\n",
    "stylish_settee_description = \"Stylish Settee. Faux leather on birch. 29.50 inches high x 54.75 inches wide x 28 inches deep. Black.\""
   ]
  },
  {
   "cell_type": "code",
   "execution_count": 23,
   "id": "06b2423f-8ad8-493a-a3f5-ce2c97e317b0",
   "metadata": {},
   "outputs": [],
   "source": [
    "#Task4\n",
    "stylish_settee_price = 180.50"
   ]
  },
  {
   "cell_type": "code",
   "execution_count": 24,
   "id": "20edbd81-71f5-45b6-8edb-5d689397416d",
   "metadata": {},
   "outputs": [],
   "source": [
    "#Task5\n",
    "luxurious_lamp_description = \"Luxurious Lamp. Glass and iron. 36 inches tall. Brown with cream shade.\""
   ]
  },
  {
   "cell_type": "code",
   "execution_count": 25,
   "id": "eb2a142f-5da0-43d6-83ed-8b3bac2bca37",
   "metadata": {},
   "outputs": [],
   "source": [
    "#Task6 \n",
    "luxurious_lamp_price = 52.15"
   ]
  },
  {
   "cell_type": "code",
   "execution_count": 26,
   "id": "3e98861c-95c5-472c-96c3-f05523717206",
   "metadata": {},
   "outputs": [],
   "source": [
    "#Task7\n",
    "sales_tax = .088"
   ]
  },
  {
   "cell_type": "code",
   "execution_count": 27,
   "id": "765458a7-ea9a-4ecd-92e3-8eca27aadc47",
   "metadata": {},
   "outputs": [],
   "source": [
    "#Task8\n",
    "customer_one_total = 0"
   ]
  },
  {
   "cell_type": "code",
   "execution_count": 28,
   "id": "ea7a7c9b-61b3-4400-aa33-b0dea65ffddd",
   "metadata": {},
   "outputs": [],
   "source": [
    "#Task9\n",
    "customer_one_itemization = \"\""
   ]
  },
  {
   "cell_type": "code",
   "execution_count": 29,
   "id": "7aa9457c-6ec0-4597-aaee-80faebe9ed92",
   "metadata": {},
   "outputs": [],
   "source": [
    "#Task10\n",
    "customer_one_total += lovely_loveseat_price"
   ]
  },
  {
   "cell_type": "code",
   "execution_count": 30,
   "id": "74213b21-3112-48ef-8666-606d96a8fb7d",
   "metadata": {},
   "outputs": [],
   "source": [
    "#Task11\n",
    "customer_one_itemization += lovely_loveseat_description"
   ]
  },
  {
   "cell_type": "code",
   "execution_count": 31,
   "id": "4f408e3e-4ffd-4c92-827b-7e3ebe74931f",
   "metadata": {},
   "outputs": [],
   "source": [
    "#Task12\n",
    "customer_one_total += luxurious_lamp_price"
   ]
  },
  {
   "cell_type": "code",
   "execution_count": 32,
   "id": "a3a4f514-b73d-45c0-9059-7f16af97b7ee",
   "metadata": {},
   "outputs": [],
   "source": [
    "#Task13\n",
    "customer_one_itemization += luxurious_lamp_description"
   ]
  },
  {
   "cell_type": "code",
   "execution_count": 33,
   "id": "434185ca-ccd8-4307-abf0-2d193ec05dac",
   "metadata": {},
   "outputs": [],
   "source": [
    "#Task14\n",
    "customer_one_tax = customer_one_total * sales_tax"
   ]
  },
  {
   "cell_type": "code",
   "execution_count": 34,
   "id": "9bfd6624-ffc6-492e-bf85-dbc987b87674",
   "metadata": {},
   "outputs": [],
   "source": [
    "#Task15\n",
    "customer_one_total += customer_one_tax"
   ]
  },
  {
   "cell_type": "code",
   "execution_count": 35,
   "id": "7c1fc330-21bb-48a3-ae87-bf6d265a5f21",
   "metadata": {},
   "outputs": [
    {
     "name": "stdout",
     "output_type": "stream",
     "text": [
      "Customer One Items:\n",
      "Lovely Loveseat. Tufted polyester blend on wood. 32 inches high x 40 inches wide x 30 inches deep. Red or white.Luxurious Lamp. Glass and iron. 36 inches tall. Brown with cream shade.\n",
      "Customer One Total:\n",
      "333.09119999999996\n"
     ]
    }
   ],
   "source": [
    "#Task16\n",
    "print(\"Customer One Items:\")\n",
    "\n",
    "#Task17\n",
    "print(customer_one_itemization)\n",
    "\n",
    "#Task18\n",
    "print(\"Customer One Total:\")\n",
    "\n",
    "#Task19\n",
    "print(customer_one_total)"
   ]
  }
 ],
 "metadata": {
  "kernelspec": {
   "display_name": "Python 3",
   "language": "python",
   "name": "python3"
  },
  "language_info": {
   "codemirror_mode": {
    "name": "ipython",
    "version": 3
   },
   "file_extension": ".py",
   "mimetype": "text/x-python",
   "name": "python",
   "nbconvert_exporter": "python",
   "pygments_lexer": "ipython3",
   "version": "3.8.8"
  }
 },
 "nbformat": 4,
 "nbformat_minor": 5
}

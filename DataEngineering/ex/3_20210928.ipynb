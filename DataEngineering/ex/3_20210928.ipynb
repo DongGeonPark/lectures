{
 "cells": [
  {
   "cell_type": "code",
   "execution_count": 16,
   "id": "50f11939-f47a-42e6-8d16-c066985c4479",
   "metadata": {},
   "outputs": [
    {
     "name": "stdout",
     "output_type": "stream",
     "text": [
      "1\n"
     ]
    }
   ],
   "source": [
    "\"\"\"\n",
    "Function vs Method\n",
    "\"\"\"\n",
    "def my_function(x):\n",
    "    return x+1\n",
    "\n",
    "y = 3\n",
    "my_function(y)\n",
    "\n",
    "# method : 클래스 내에 정의된 함수\n",
    "\n",
    "class my_class:\n",
    "    def my_method(self):\n",
    "        return x + 1\n",
    "cls = my_class()\n",
    "#create an instance\n",
    "x = 0\n",
    "print(cls.my_method())"
   ]
  },
  {
   "cell_type": "code",
   "execution_count": 31,
   "id": "47283718-5791-4cf1-97d9-b61e53ea30a6",
   "metadata": {},
   "outputs": [
    {
     "name": "stdout",
     "output_type": "stream",
     "text": [
      "2\n",
      "1\n"
     ]
    }
   ],
   "source": [
    "class Foo:\n",
    "    def func1():\n",
    "        print(\"1\")\n",
    "    def func2(self):\n",
    "        print(\"2\")\n",
    "    \n",
    "f = Foo()\n",
    "f.func2()\n",
    "Foo.func1()"
   ]
  },
  {
   "cell_type": "code",
   "execution_count": 17,
   "id": "4d9306e3-e387-413a-85f7-f432c5742af4",
   "metadata": {},
   "outputs": [
    {
     "data": {
      "text/plain": [
       "'2021 is a not leap year'"
      ]
     },
     "execution_count": 17,
     "metadata": {},
     "output_type": "execute_result"
    }
   ],
   "source": [
    "\"\"\"\n",
    "Return Keyword\n",
    "\"\"\"\n",
    "\n",
    "#leap year: 윤년(2월 29일 까지)\n",
    "\n",
    "def check_leap_year(year):\n",
    "    if year % 4 == 0:\n",
    "        return str(year) + \" is a leap year\"\n",
    "    else:\n",
    "        return str(year) + \" is a not leap year\"\n",
    "check_leap_year(2021)"
   ]
  },
  {
   "cell_type": "code",
   "execution_count": 19,
   "id": "dc84d19a-7775-41af-b1ee-31966ed3e234",
   "metadata": {},
   "outputs": [
    {
     "name": "stdout",
     "output_type": "stream",
     "text": [
      "9 16 25\n"
     ]
    }
   ],
   "source": [
    "\"\"\"\n",
    "Returning Multiple Values\n",
    "\"\"\"\n",
    "def square_point(x,y,z):\n",
    "    x_squared = x ** 2\n",
    "    y_squared = y ** 2\n",
    "    z_squared = z ** 2\n",
    "    return x_squared,y_squared,z_squared\n",
    "\n",
    "t,f,F = square_point(3,4,5)\n",
    "print(t,f,F)"
   ]
  },
  {
   "cell_type": "code",
   "execution_count": 32,
   "id": "dca699ea-2228-493a-b8b9-5ce63a96de5d",
   "metadata": {},
   "outputs": [
    {
     "name": "stdout",
     "output_type": "stream",
     "text": [
      "Hello\n",
      "2\n"
     ]
    }
   ],
   "source": [
    "\"\"\"\n",
    "Global Variables\n",
    "\"\"\"\n",
    "a=\"Hello\"\n",
    "\n",
    "def f1():\n",
    "    print(a)\n",
    "f1()\n",
    "\n",
    "def f2():\n",
    "    b = 2\n",
    "    print(b)\n",
    "\n",
    "f2()"
   ]
  },
  {
   "cell_type": "code",
   "execution_count": 37,
   "id": "1c7b1713-8bbe-426e-b957-9bcbbdddfbd1",
   "metadata": {},
   "outputs": [
    {
     "name": "stdout",
     "output_type": "stream",
     "text": [
      "Height =  5 width =  4 depth =  3\n",
      "volume =  60\n"
     ]
    }
   ],
   "source": [
    "\"\"\"\n",
    "Keyword Arguments and Default  Values\n",
    "\"\"\"\n",
    "\n",
    "def findvolume(height, width, depth):\n",
    "    print(\"Height = \", str(height),\"width = \",str(width),\"depth = \",str(depth))\n",
    "    print(\"volume = \",height*width*depth)\n",
    "\n",
    "findvolume(depth = 3,width = 4,height = 5)"
   ]
  }
 ],
 "metadata": {
  "kernelspec": {
   "display_name": "Python 3",
   "language": "python",
   "name": "python3"
  },
  "language_info": {
   "codemirror_mode": {
    "name": "ipython",
    "version": 3
   },
   "file_extension": ".py",
   "mimetype": "text/x-python",
   "name": "python",
   "nbconvert_exporter": "python",
   "pygments_lexer": "ipython3",
   "version": "3.8.8"
  }
 },
 "nbformat": 4,
 "nbformat_minor": 5
}

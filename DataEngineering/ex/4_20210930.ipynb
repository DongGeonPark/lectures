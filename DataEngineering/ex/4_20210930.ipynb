{
 "cells": [
  {
   "cell_type": "code",
   "execution_count": 47,
   "id": "1d900509-a8da-4dee-bd83-3dc046bc928a",
   "metadata": {},
   "outputs": [
    {
     "name": "stdout",
     "output_type": "stream",
     "text": [
      "<U11\n"
     ]
    }
   ],
   "source": [
    "#Create numpy\n",
    "import numpy as np\n",
    "lst = [1,2,\"string\",4]\n",
    "arr = np.array(lst)\n",
    "print(arr.dtype)"
   ]
  },
  {
   "cell_type": "code",
   "execution_count": 7,
   "id": "dbedaaa1-be1c-4f81-b817-22dd5d1b6392",
   "metadata": {},
   "outputs": [
    {
     "name": "stdout",
     "output_type": "stream",
     "text": [
      "168\n",
      "160\n"
     ]
    }
   ],
   "source": [
    "\"\"\"\n",
    "Size Comparison of ndarray and list objects\n",
    "\"\"\"\n",
    "import numpy as np\n",
    "from sys import getsizeof\n",
    "\n",
    "lst = [1,2,3,4,5,6,7,8,9,10,11,12,13,14]\n",
    "print(getsizeof(lst))\n",
    "\n",
    "arr = np.array(lst)\n",
    "print(getsizeof(arr))"
   ]
  },
  {
   "cell_type": "code",
   "execution_count": 10,
   "id": "d9b02186-c0d9-4eef-ada4-f712659e20d9",
   "metadata": {},
   "outputs": [
    {
     "name": "stdout",
     "output_type": "stream",
     "text": [
      "[25, 20, 35, 15, 15, 30, 45, 30]\n",
      "[25 20 35 15 15 30 45 30]\n"
     ]
    }
   ],
   "source": [
    "\"\"\"\n",
    "Operations with Numpy Arrays\n",
    "\"\"\"\n",
    "prices = [30,25,40,20,20,35,50,35]\n",
    "\n",
    "new_prices = [price-5 for price in prices]\n",
    "print(new_prices)\n",
    "\n",
    "prices_arr = np.array(prices)\n",
    "prices_arr -= 5\n",
    "print(prices_arr)"
   ]
  },
  {
   "cell_type": "code",
   "execution_count": 40,
   "id": "6476243f-6401-4f9a-b393-37da24eb24e6",
   "metadata": {},
   "outputs": [
    {
     "name": "stdout",
     "output_type": "stream",
     "text": [
      "[258 279 246 274 270]\n",
      "[86.         93.         82.         91.33333333 90.        ]\n",
      "[94 88]\n",
      "[[ 92  94  88  91  87]\n",
      " [ 79 100  86  93  91]\n",
      " [ 87  85  72  90  92]]\n",
      "[87 91 92]\n",
      "[[ True  True False  True False]\n",
      " [False  True False  True  True]\n",
      " [False False False False  True]]\n"
     ]
    }
   ],
   "source": [
    "import numpy as np\n",
    "test_1 = np.array([92, 94, 88, 91, 87])\n",
    "test_2 = np.array([79,100,86,93,91])\n",
    "test_3 = np.array([87,85,72,90,92])\n",
    "test_3_fixed = test_3+2\n",
    "\n",
    "total_grade = test_1+test_2+test_3\n",
    "print(total_grade)\n",
    "final_grade = total_grade/3\n",
    "print(final_grade)\n",
    "\n",
    "jeremy_test_2 = test_2[3]\n",
    "manual_adwoa_test_1 = np.array([test_1[1], test_1[2]])\n",
    "print(manual_adwoa_test_1)\n",
    "arr = np.array([test_1,test_2,test_3])\n",
    "print(arr)\n",
    "print(arr[:,-1])\n",
    "mask = arr > 90\n",
    "print(mask)"
   ]
  },
  {
   "cell_type": "code",
   "execution_count": 2,
   "id": "9418c081-35e3-4c03-8087-b736ee8e671a",
   "metadata": {},
   "outputs": [
    {
     "ename": "NameError",
     "evalue": "name 'np' is not defined",
     "output_type": "error",
     "traceback": [
      "\u001b[1;31m---------------------------------------------------------------------------\u001b[0m",
      "\u001b[1;31mNameError\u001b[0m                                 Traceback (most recent call last)",
      "\u001b[1;32m<ipython-input-2-ceaac9160f51>\u001b[0m in \u001b[0;36m<module>\u001b[1;34m\u001b[0m\n\u001b[0;32m      3\u001b[0m \"\"\"\n\u001b[0;32m      4\u001b[0m \u001b[1;31m#masking\u001b[0m\u001b[1;33m\u001b[0m\u001b[1;33m\u001b[0m\u001b[1;33m\u001b[0m\u001b[0m\n\u001b[1;32m----> 5\u001b[1;33m \u001b[0ma\u001b[0m \u001b[1;33m=\u001b[0m \u001b[0mnp\u001b[0m\u001b[1;33m.\u001b[0m\u001b[0marray\u001b[0m\u001b[1;33m(\u001b[0m\u001b[1;33m[\u001b[0m\u001b[1;36m1\u001b[0m\u001b[1;33m,\u001b[0m\u001b[1;36m2\u001b[0m\u001b[1;33m,\u001b[0m\u001b[1;36m3\u001b[0m\u001b[1;33m,\u001b[0m\u001b[1;36m4\u001b[0m\u001b[1;33m,\u001b[0m\u001b[1;36m5\u001b[0m\u001b[1;33m,\u001b[0m\u001b[1;36m6\u001b[0m\u001b[1;33m,\u001b[0m\u001b[1;36m7\u001b[0m\u001b[1;33m,\u001b[0m\u001b[1;36m8\u001b[0m\u001b[1;33m,\u001b[0m\u001b[1;36m9\u001b[0m\u001b[1;33m,\u001b[0m\u001b[1;36m10\u001b[0m\u001b[1;33m]\u001b[0m\u001b[1;33m)\u001b[0m\u001b[1;33m\u001b[0m\u001b[1;33m\u001b[0m\u001b[0m\n\u001b[0m\u001b[0;32m      6\u001b[0m \u001b[0mmask\u001b[0m \u001b[1;33m=\u001b[0m \u001b[0ma\u001b[0m\u001b[1;33m>\u001b[0m\u001b[1;36m5\u001b[0m\u001b[1;33m\u001b[0m\u001b[1;33m\u001b[0m\u001b[0m\n\u001b[0;32m      7\u001b[0m \u001b[0mprint\u001b[0m\u001b[1;33m(\u001b[0m\u001b[0mmask\u001b[0m\u001b[1;33m)\u001b[0m\u001b[1;33m\u001b[0m\u001b[1;33m\u001b[0m\u001b[0m\n",
      "\u001b[1;31mNameError\u001b[0m: name 'np' is not defined"
     ]
    }
   ],
   "source": [
    "\"\"\"\n",
    "Logical Operations with Arrays\n",
    "\"\"\"\n",
    "#masking\n",
    "a = np.array([1,2,3,4,5,6,7,8,9,10])\n",
    "mask = a>5\n",
    "print(mask)\n",
    "\n",
    "#selected\n",
    "selected = a[a>5]\n",
    "print(selected)\n",
    "\n",
    "#combined logical operations | &\n",
    "selected = a[(a > 6)  | (a < 4)]\n",
    "print(selected)"
   ]
  },
  {
   "cell_type": "code",
   "execution_count": 15,
   "id": "4b5cd831-9ecc-4de5-b007-a576fb1a6cd5",
   "metadata": {},
   "outputs": [
    {
     "ename": "ValueError",
     "evalue": "The truth value of an array with more than one element is ambiguous. Use a.any() or a.all()",
     "output_type": "error",
     "traceback": [
      "\u001b[1;31m---------------------------------------------------------------------------\u001b[0m",
      "\u001b[1;31mValueError\u001b[0m                                Traceback (most recent call last)",
      "\u001b[1;32m<ipython-input-15-438d01bcae63>\u001b[0m in \u001b[0;36m<module>\u001b[1;34m\u001b[0m\n\u001b[0;32m      7\u001b[0m \u001b[0mcold\u001b[0m \u001b[1;33m=\u001b[0m \u001b[0mporridge\u001b[0m\u001b[1;33m[\u001b[0m\u001b[0mporridge\u001b[0m \u001b[1;33m<\u001b[0m \u001b[1;36m60\u001b[0m\u001b[1;33m]\u001b[0m\u001b[1;33m\u001b[0m\u001b[1;33m\u001b[0m\u001b[0m\n\u001b[0;32m      8\u001b[0m \u001b[0mhot\u001b[0m \u001b[1;33m=\u001b[0m \u001b[0mporridge\u001b[0m\u001b[1;33m[\u001b[0m\u001b[0mporridge\u001b[0m \u001b[1;33m>\u001b[0m \u001b[1;36m80\u001b[0m\u001b[1;33m]\u001b[0m\u001b[1;33m\u001b[0m\u001b[1;33m\u001b[0m\u001b[0m\n\u001b[1;32m----> 9\u001b[1;33m \u001b[0mjust_right\u001b[0m \u001b[1;33m=\u001b[0m \u001b[0mporridge\u001b[0m\u001b[1;33m[\u001b[0m\u001b[0mporridge\u001b[0m \u001b[1;33m>\u001b[0m \u001b[1;36m60\u001b[0m \u001b[1;33m&\u001b[0m \u001b[0mporridge\u001b[0m \u001b[1;33m<\u001b[0m \u001b[1;36m80\u001b[0m\u001b[1;33m]\u001b[0m\u001b[1;33m\u001b[0m\u001b[1;33m\u001b[0m\u001b[0m\n\u001b[0m\u001b[0;32m     10\u001b[0m \u001b[0mprint\u001b[0m\u001b[1;33m(\u001b[0m\u001b[0mjust_right\u001b[0m\u001b[1;33m)\u001b[0m\u001b[1;33m\u001b[0m\u001b[1;33m\u001b[0m\u001b[0m\n",
      "\u001b[1;31mValueError\u001b[0m: The truth value of an array with more than one element is ambiguous. Use a.any() or a.all()"
     ]
    }
   ],
   "source": [
    "\"\"\"\n",
    "Goldilocks Porridge Festival\n",
    "\"\"\"\n",
    "import numpy as np\n",
    "porridge = np.array([79, 65, 50, 63, 56, 90, 85, 98, 79, 51])\n",
    "\n",
    "cold = porridge[porridge < 60]\n",
    "hot = porridge[porridge > 80]\n",
    "just_right = porridge[porridge > 60 & porridge < 80]\n",
    "print(just_right)\n"
   ]
  }
 ],
 "metadata": {
  "kernelspec": {
   "display_name": "Python 3",
   "language": "python",
   "name": "python3"
  },
  "language_info": {
   "codemirror_mode": {
    "name": "ipython",
    "version": 3
   },
   "file_extension": ".py",
   "mimetype": "text/x-python",
   "name": "python",
   "nbconvert_exporter": "python",
   "pygments_lexer": "ipython3",
   "version": "3.8.8"
  }
 },
 "nbformat": 4,
 "nbformat_minor": 5
}

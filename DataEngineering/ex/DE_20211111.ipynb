{
 "cells": [
  {
   "cell_type": "code",
   "execution_count": 2,
   "id": "127b8f12-37df-467c-9b58-51c326f5c8c3",
   "metadata": {},
   "outputs": [
    {
     "name": "stdout",
     "output_type": "stream",
     "text": [
      "Hello World\n",
      "100\n",
      "3.141592\n"
     ]
    }
   ],
   "source": [
    "23Qprint(\"Hello World\")\n",
    "print(100)\n",
    "pi = 3.141592\n",
    "print(pi)"
   ]
  },
  {
   "cell_type": "code",
   "execution_count": 3,
   "id": "92d6d468-73a4-40d4-9be8-36dccd5e5f64",
   "metadata": {},
   "outputs": [
    {
     "name": "stdout",
     "output_type": "stream",
     "text": [
      "True\n"
     ]
    }
   ],
   "source": [
    "print(\"Yes\" == 'Yes')"
   ]
  },
  {
   "cell_type": "code",
   "execution_count": 4,
   "id": "de57abbf-d240-4886-9c3e-64c4f7aafb80",
   "metadata": {},
   "outputs": [
    {
     "name": "stdout",
     "output_type": "stream",
     "text": [
      "True\n"
     ]
    }
   ],
   "source": [
    "print((2>1) == (5<10))"
   ]
  },
  {
   "cell_type": "code",
   "execution_count": 5,
   "id": "48b5dc50-b162-470a-b522-5b0ddeb72b0a",
   "metadata": {},
   "outputs": [
    {
     "name": "stdout",
     "output_type": "stream",
     "text": [
      "2\n",
      "[Error]\n"
     ]
    }
   ],
   "source": [
    "x=1\n",
    "y=2\n",
    "try:\n",
    "    print(y)\n",
    "    print(z)\n",
    "    \n",
    "except:\n",
    "    print('[Error]')"
   ]
  },
  {
   "cell_type": "code",
   "execution_count": 6,
   "id": "10e18d07-bf7d-430b-bc41-0e12061e5bee",
   "metadata": {},
   "outputs": [
    {
     "name": "stdout",
     "output_type": "stream",
     "text": [
      "3\n"
     ]
    }
   ],
   "source": [
    "def my_function(x):\n",
    "    return x + 1\n",
    "y = 3\n",
    "my_function(y)\n",
    "\n",
    "class my_class:\n",
    "    def my_method(self):\n",
    "        return x+1\n",
    "\n",
    "cls = my_class()\n",
    "x = 2\n",
    "print(cls.my_method())"
   ]
  },
  {
   "cell_type": "code",
   "execution_count": 7,
   "id": "536814e2-e288-4d89-95bc-3e887d414e54",
   "metadata": {},
   "outputs": [
    {
     "name": "stdout",
     "output_type": "stream",
     "text": [
      "2021n\n"
     ]
    }
   ],
   "source": [
    "def check_leap_year(year):\n",
    "    if year % 4==0:\n",
    "        return str(year) + \"s\"\n",
    "    else:\n",
    "        return str(year) + 'n'\n",
    "year_to_check = 2021\n",
    "returned_value = check_leap_year(year_to_check)\n",
    "print(returned_value)"
   ]
  },
  {
   "cell_type": "code",
   "execution_count": 8,
   "id": "1cf87979-427e-48ea-9b40-d208c7733bcd",
   "metadata": {},
   "outputs": [
    {
     "name": "stdout",
     "output_type": "stream",
     "text": [
      "1 4 9\n"
     ]
    }
   ],
   "source": [
    "def square_point(x,y,z):\n",
    "    x = x**2\n",
    "    y = y**2\n",
    "    z = z**2\n",
    "    return x, y, z\n",
    "\n",
    "x_2,y_2,z_2 = square_point(1,2,3)\n",
    "print(x_2,y_2,z_2)"
   ]
  },
  {
   "cell_type": "code",
   "execution_count": 9,
   "id": "7e718a95-6369-4c08-a24f-61c4a7443cef",
   "metadata": {},
   "outputs": [],
   "source": [
    "import numpy as np\n",
    "import pandas as pd\n",
    "from matplotlib import pyplot as plt"
   ]
  },
  {
   "cell_type": "code",
   "execution_count": 10,
   "id": "c627a9cb-e69c-4613-b18b-b31e5224c230",
   "metadata": {},
   "outputs": [
    {
     "name": "stdout",
     "output_type": "stream",
     "text": [
      "[1 2 3 4]\n"
     ]
    }
   ],
   "source": [
    "list = [1,2,3,4]\n",
    "arr = np.array(list)\n",
    "print(arr)"
   ]
  },
  {
   "cell_type": "code",
   "execution_count": 11,
   "id": "2d2e3b5b-1afc-4158-81de-60e2547e7683",
   "metadata": {},
   "outputs": [
    {
     "name": "stdout",
     "output_type": "stream",
     "text": [
      "int32\n"
     ]
    }
   ],
   "source": [
    "print(arr.dtype)"
   ]
  },
  {
   "cell_type": "code",
   "execution_count": 12,
   "id": "85a89a7e-98cc-4870-9345-7747c16b3937",
   "metadata": {},
   "outputs": [
    {
     "name": "stdout",
     "output_type": "stream",
     "text": [
      "176\n",
      "164\n"
     ]
    }
   ],
   "source": [
    "from sys import getsizeof\n",
    "\n",
    "list = [1,2,3,4,5,6,7,8,9,10,11,12,13,14,15]\n",
    "print(getsizeof(list))\n",
    "\n",
    "arr = np.array(list)\n",
    "print(getsizeof(arr))"
   ]
  },
  {
   "cell_type": "code",
   "execution_count": 13,
   "id": "b6e48603-183d-4dd0-9332-230002f2a454",
   "metadata": {},
   "outputs": [],
   "source": [
    "prices = [30,25,40,20,20]\n",
    "arr =np.array(prices)"
   ]
  },
  {
   "cell_type": "code",
   "execution_count": 14,
   "id": "6da54054-0aa6-4e92-9fe6-78367eaf0969",
   "metadata": {},
   "outputs": [],
   "source": [
    "test_1=np.array([92, 94, 88, 91, 87])\n",
    "test_2=np.array([79, 100, 86, 93, 91])\n",
    "test_3=np.array([89, 87, 74, 92, 94])\n",
    "test_3 = test_3-2"
   ]
  },
  {
   "cell_type": "code",
   "execution_count": 15,
   "id": "c1319551-5aee-4e91-9959-aefb8f963cc7",
   "metadata": {},
   "outputs": [
    {
     "name": "stdout",
     "output_type": "stream",
     "text": [
      "[89 87 74 92 94]\n",
      "[260 281 248 276 272]\n",
      "[86.66666667 93.66666667 82.66666667 92.         90.66666667]\n"
     ]
    }
   ],
   "source": [
    "test_3_fixed = test_3+2\n",
    "print(test_3_fixed)\n",
    "total_grade = test_1+ test_2 + test_3_fixed\n",
    "print(total_grade)\n",
    "print(total_grade/3)"
   ]
  },
  {
   "cell_type": "code",
   "execution_count": 16,
   "id": "2732835b-27a8-4fe8-ace0-453fa7e17a4c",
   "metadata": {},
   "outputs": [
    {
     "name": "stdout",
     "output_type": "stream",
     "text": [
      "93\n",
      "[94 88]\n"
     ]
    }
   ],
   "source": [
    "jeremy_test_2 = test_2[3]\n",
    "print(jeremy_test_2)\n",
    "manual_adwoa_test_1 = np.array([test_1[1],test_1[2]])\n",
    "print(manual_adwoa_test_1)"
   ]
  },
  {
   "cell_type": "code",
   "execution_count": 17,
   "id": "155f8c46-2ac6-4e01-b9d0-5c5298dc207c",
   "metadata": {},
   "outputs": [
    {
     "data": {
      "text/plain": [
       "86"
      ]
     },
     "execution_count": 17,
     "metadata": {},
     "output_type": "execute_result"
    }
   ],
   "source": [
    "student_scores = np.array([test_1,test_2,test_3])\n",
    "student_scores[1][2]"
   ]
  },
  {
   "cell_type": "code",
   "execution_count": 18,
   "id": "85baa882-690c-4ebc-b676-954eab037e21",
   "metadata": {},
   "outputs": [
    {
     "name": "stdout",
     "output_type": "stream",
     "text": [
      "[3 4 5 6]\n"
     ]
    }
   ],
   "source": [
    "x = np.arange(4)\n",
    "print(np.add(x,3))"
   ]
  },
  {
   "cell_type": "code",
   "execution_count": 19,
   "id": "1b09c757-21f4-4dfa-b76e-43981027e602",
   "metadata": {},
   "outputs": [
    {
     "name": "stdout",
     "output_type": "stream",
     "text": [
      "[2 1 0 1 2]\n"
     ]
    }
   ],
   "source": [
    "x = np.array([-2,-1,0,1,2])\n",
    "print(np.abs(x))"
   ]
  },
  {
   "cell_type": "code",
   "execution_count": 20,
   "id": "4da9a352-5338-4833-9a02-2320656a83f3",
   "metadata": {},
   "outputs": [
    {
     "name": "stdout",
     "output_type": "stream",
     "text": [
      "[  0.  25.  50.  75. 100.]\n"
     ]
    }
   ],
   "source": [
    "print(np.linspace(0,100,5))"
   ]
  },
  {
   "cell_type": "code",
   "execution_count": 25,
   "id": "0ec73ca7-55c3-45cd-87f3-d75ccb007a82",
   "metadata": {},
   "outputs": [
    {
     "name": "stdout",
     "output_type": "stream",
     "text": [
      "10\n",
      "24\n"
     ]
    }
   ],
   "source": [
    "x = np.arange(1,5)\n",
    "aggr = np.add.reduce(x)\n",
    "print(aggr)\n",
    "aggr = np.multiply.reduce(x)\n",
    "print(aggr)"
   ]
  },
  {
   "cell_type": "code",
   "execution_count": 28,
   "id": "d8af86bb-a53d-4180-8146-48d2844e4560",
   "metadata": {},
   "outputs": [
    {
     "name": "stdout",
     "output_type": "stream",
     "text": [
      "[ 1  3  6 10]\n",
      "[ 1  2  6 24]\n"
     ]
    }
   ],
   "source": [
    "accum = np.add.accumulate(x)\n",
    "print(accum)\n",
    "accum = np.multiply.accumulate(x)\n",
    "print(accum)"
   ]
  },
  {
   "cell_type": "code",
   "execution_count": 30,
   "id": "a3690a5d-95fd-4f9a-a91a-672200ea9284",
   "metadata": {},
   "outputs": [
    {
     "data": {
      "text/plain": [
       "4998725.978989007"
      ]
     },
     "execution_count": 30,
     "metadata": {},
     "output_type": "execute_result"
    }
   ],
   "source": [
    "arr = np.random.rand(10000000)\n",
    "np.sum(arr)"
   ]
  },
  {
   "cell_type": "code",
   "execution_count": 32,
   "id": "d3bf80ff-620f-44da-a91d-71f87afde3fe",
   "metadata": {},
   "outputs": [
    {
     "name": "stdout",
     "output_type": "stream",
     "text": [
      "718 ms ± 18 ms per loop (mean ± std. dev. of 7 runs, 1 loop each)\n"
     ]
    }
   ],
   "source": [
    "%timeit sum(arr)"
   ]
  },
  {
   "cell_type": "code",
   "execution_count": 33,
   "id": "213c46a6-bd0f-41b6-9564-b3f80dd01038",
   "metadata": {},
   "outputs": [
    {
     "name": "stdout",
     "output_type": "stream",
     "text": [
      "11.8 ms ± 109 µs per loop (mean ± std. dev. of 7 runs, 100 loops each)\n"
     ]
    }
   ],
   "source": [
    "%timeit np.sum(arr)"
   ]
  },
  {
   "cell_type": "code",
   "execution_count": 34,
   "id": "f9ccc7d9-6cf0-436e-b305-57736a51cba1",
   "metadata": {},
   "outputs": [
    {
     "name": "stdout",
     "output_type": "stream",
     "text": [
      "[12 14 17  8]\n",
      "[15 28  8]\n"
     ]
    }
   ],
   "source": [
    "arr = np.array([[3,6,6,0],[9,8,4,7],[0,0,7,1]])\n",
    "print(np.sum(arr, axis=0))\n",
    "print(np.sum(arr, axis=1))"
   ]
  },
  {
   "cell_type": "code",
   "execution_count": 35,
   "id": "b416837a-8d28-4e87-992b-c5d0c1ea54b6",
   "metadata": {},
   "outputs": [
    {
     "name": "stdout",
     "output_type": "stream",
     "text": [
      "[5 6 7]\n",
      "[5 6 7]\n"
     ]
    }
   ],
   "source": [
    "a = np.array([0,1,2])\n",
    "print(a+5)\n",
    "a = np.array([0,1,2])\n",
    "b = np.array([5,5,5])\n",
    "print(a+b)"
   ]
  },
  {
   "cell_type": "code",
   "execution_count": 36,
   "id": "a8eed9d1-e9fb-4baf-be46-9ae871f681d9",
   "metadata": {},
   "outputs": [
    {
     "name": "stdout",
     "output_type": "stream",
     "text": [
      "[[1. 2. 3.]\n",
      " [1. 2. 3.]\n",
      " [1. 2. 3.]]\n"
     ]
    }
   ],
   "source": [
    "a = np.ones((3,3))\n",
    "b = np.arange(3)\n",
    "print(a+b)"
   ]
  },
  {
   "cell_type": "code",
   "execution_count": 38,
   "id": "13a1e11c-cd69-4f89-8e86-370fcd6405e1",
   "metadata": {},
   "outputs": [
    {
     "name": "stdout",
     "output_type": "stream",
     "text": [
      "[[0 1 2]\n",
      " [1 2 3]\n",
      " [2 3 4]]\n"
     ]
    }
   ],
   "source": [
    "a = np.arange(3)\n",
    "a = a[:, np.newaxis]\n",
    "b = np.arange(3)\n",
    "print(a+b)"
   ]
  },
  {
   "cell_type": "code",
   "execution_count": 41,
   "id": "96f205ab-0dd4-4c92-bb35-ba86b9387c8a",
   "metadata": {},
   "outputs": [
    {
     "name": "stdout",
     "output_type": "stream",
     "text": [
      "[ True  True False False False]\n",
      "[False False  True  True  True]\n"
     ]
    }
   ],
   "source": [
    "x = np.array([1,2,3,4,5])\n",
    "print(x < 3)\n",
    "print(x >= 3)"
   ]
  },
  {
   "cell_type": "code",
   "execution_count": 42,
   "id": "3c9f7fa0-3049-415b-a06b-640dec55185b",
   "metadata": {},
   "outputs": [
    {
     "name": "stdout",
     "output_type": "stream",
     "text": [
      "[[5 0 3 3]\n",
      " [7 9 3 5]\n",
      " [2 4 7 6]]\n"
     ]
    }
   ],
   "source": [
    "np.random.seed(0)\n",
    "x = np.random.randint(10, size=(3,4))\n",
    "print(x)"
   ]
  },
  {
   "cell_type": "code",
   "execution_count": 43,
   "id": "4fcdeb65-caa0-430e-a340-7c227b42faa1",
   "metadata": {},
   "outputs": [
    {
     "name": "stdout",
     "output_type": "stream",
     "text": [
      "[[ True  True  True  True]\n",
      " [False False  True  True]\n",
      " [ True  True False False]]\n"
     ]
    }
   ],
   "source": [
    "print(x<6)"
   ]
  },
  {
   "cell_type": "code",
   "execution_count": 45,
   "id": "b67d51f4-6986-40f9-a7aa-543c45470855",
   "metadata": {},
   "outputs": [
    {
     "name": "stdout",
     "output_type": "stream",
     "text": [
      "8\n",
      "True\n",
      "False\n",
      "8\n"
     ]
    }
   ],
   "source": [
    "print(np.count_nonzero(x<6))\n",
    "print(np.any(x>8))\n",
    "print(np.all(x>1))\n",
    "print(np.sum(x<6))"
   ]
  },
  {
   "cell_type": "code",
   "execution_count": 48,
   "id": "1043700f-50ae-48dd-b76a-ab545e8cdcb5",
   "metadata": {},
   "outputs": [
    {
     "name": "stdout",
     "output_type": "stream",
     "text": [
      "[[False  True  True  True]\n",
      " [False False  True False]\n",
      " [ True  True False False]]\n",
      "[0 3 3 3 2 4]\n"
     ]
    }
   ],
   "source": [
    "x = np.array([[5,0,3,3],[7,9,3,5],[2,4,7,6]])\n",
    "print(x<5)\n",
    "print(x[x<5])"
   ]
  },
  {
   "cell_type": "code",
   "execution_count": 50,
   "id": "b54ec5f2-b4ad-467d-92cc-95bf598eb667",
   "metadata": {},
   "outputs": [
    {
     "name": "stdout",
     "output_type": "stream",
     "text": [
      "[37 25 77 72  9 20 80 69 79 47]\n",
      "[77, 9, 80]\n",
      "[77  9 80]\n"
     ]
    }
   ],
   "source": [
    "x = np.random.randint(100,size =10)\n",
    "print(x)\n",
    "a = x[2]\n",
    "b = x[4]\n",
    "c = x[6]\n",
    "print([a,b,c])\n",
    "ind = [2,4,6]\n",
    "print(x[ind])"
   ]
  },
  {
   "cell_type": "code",
   "execution_count": 51,
   "id": "51e57f67-0cc8-4578-a7a3-762f062ae7ae",
   "metadata": {},
   "outputs": [
    {
     "name": "stdout",
     "output_type": "stream",
     "text": [
      "[6 2 6]\n"
     ]
    }
   ],
   "source": [
    "x = np.array([[8,8,6,2,8],[7,2,1,5,4],[4,5,7,3,6]])\n",
    "row = [0,1,2]\n",
    "col = [2,1,4]\n",
    "print(x[row, col])"
   ]
  },
  {
   "cell_type": "code",
   "execution_count": 52,
   "id": "12ec8241-bb63-46ef-9958-e645cb960e42",
   "metadata": {},
   "outputs": [
    {
     "data": {
      "text/plain": [
       "array([[6, 8, 8],\n",
       "       [1, 2, 4],\n",
       "       [7, 5, 6]])"
      ]
     },
     "execution_count": 52,
     "metadata": {},
     "output_type": "execute_result"
    }
   ],
   "source": [
    "row = np.array([0,1,2])\n",
    "col = np.array([2,1,4])\n",
    "x[row[:, np.newaxis],col]"
   ]
  },
  {
   "cell_type": "code",
   "execution_count": 57,
   "id": "7a4b7b22-f649-4d6a-97fc-f5cb095e448d",
   "metadata": {},
   "outputs": [
    {
     "name": "stdout",
     "output_type": "stream",
     "text": [
      "[7 4 5]\n",
      "[[1 7 2]\n",
      " [7 4 5]]\n"
     ]
    }
   ],
   "source": [
    "print(x[2,[2,0,1]])\n",
    "print(x[1:, [2,0,1]])"
   ]
  },
  {
   "cell_type": "code",
   "execution_count": 59,
   "id": "681e186a-ebe1-49c1-963a-b8db0d0b8eb9",
   "metadata": {},
   "outputs": [
    {
     "name": "stdout",
     "output_type": "stream",
     "text": [
      "0    0.25\n",
      "1    0.50\n",
      "2    0.75\n",
      "3    1.00\n",
      "dtype: float64\n"
     ]
    }
   ],
   "source": [
    "import pandas as pd\n",
    "\n",
    "ser = pd.Series([0.25,0.5,0.75,1.0])\n",
    "print(ser)"
   ]
  },
  {
   "cell_type": "code",
   "execution_count": 60,
   "id": "9e5e5683-81e4-4302-b413-efa92584cb03",
   "metadata": {},
   "outputs": [
    {
     "name": "stdout",
     "output_type": "stream",
     "text": [
      "[0.25 0.5  0.75 1.  ]\n",
      "RangeIndex(start=0, stop=4, step=1)\n"
     ]
    }
   ],
   "source": [
    "arr = ser.values\n",
    "print(arr)\n",
    "ind = ser.index\n",
    "print(ind)"
   ]
  },
  {
   "cell_type": "code",
   "execution_count": 62,
   "id": "2dfe310f-1999-4dd2-89bd-65f40cee5f6c",
   "metadata": {},
   "outputs": [
    {
     "name": "stdout",
     "output_type": "stream",
     "text": [
      "a    0.25\n",
      "b    0.50\n",
      "c    0.75\n",
      "d    1.00\n",
      "dtype: float64\n",
      "0.5\n"
     ]
    }
   ],
   "source": [
    "ser = pd.Series([0.25,0.5,0.75, 1.0],index=['a','b','c','d'])\n",
    "print(ser)\n",
    "print(ser['b'])"
   ]
  },
  {
   "cell_type": "code",
   "execution_count": 63,
   "id": "aa23e7a5-feb0-44b0-818c-448b965b9d12",
   "metadata": {},
   "outputs": [
    {
     "name": "stdout",
     "output_type": "stream",
     "text": [
      "{'a': 1, 2: 'two', 'third': True}\n"
     ]
    }
   ],
   "source": [
    "dict = {'a':1, 2: 'two','third':True}\n",
    "print(dict)"
   ]
  },
  {
   "cell_type": "code",
   "execution_count": 66,
   "id": "8d2228df-9f46-4ad9-81d4-5069f91dd246",
   "metadata": {},
   "outputs": [
    {
     "name": "stdout",
     "output_type": "stream",
     "text": [
      "California    38332521\n",
      "Texas         26448193\n",
      "New York      19651127\n",
      "Florida       19552860\n",
      "Illinois      12882135\n",
      "dtype: int64\n"
     ]
    }
   ],
   "source": [
    "population_dict = {'California': 38332521,\n",
    "'Texas': 26448193,\n",
    "\"New York\": 19651127,\n",
    "'Florida': 19552860,\n",
    "'Illinois': 12882135}\n",
    "\n",
    "population = pd.Series(population_dict)\n",
    "print(population)"
   ]
  },
  {
   "cell_type": "code",
   "execution_count": 67,
   "id": "f67c6924-9a2b-45ce-ba56-9be826962d26",
   "metadata": {},
   "outputs": [
    {
     "name": "stdout",
     "output_type": "stream",
     "text": [
      "California    38332521\n",
      "Texas         26448193\n",
      "New York      19651127\n",
      "dtype: int64\n"
     ]
    }
   ],
   "source": [
    "print(population['California':'New York'])"
   ]
  },
  {
   "cell_type": "code",
   "execution_count": 68,
   "id": "f9b2a5c4-b6ef-405b-bc95-93107dfccb7b",
   "metadata": {},
   "outputs": [
    {
     "name": "stdout",
     "output_type": "stream",
     "text": [
      "California    423967\n",
      "Texas         695662\n",
      "New York      141297\n",
      "Florida       170312\n",
      "Illinois      149995\n",
      "dtype: int64\n"
     ]
    }
   ],
   "source": [
    "area_dict = {'California': 423967,'Texas': 695662, 'New York': 141297,\n",
    "'Florida': 170312, 'Illinois': 149995}\n",
    "\n",
    "area = pd.Series(area_dict)\n",
    "print(area)"
   ]
  },
  {
   "cell_type": "code",
   "execution_count": 69,
   "id": "9d4c2fbc-587d-4730-a241-f94e51f9fc19",
   "metadata": {},
   "outputs": [
    {
     "name": "stdout",
     "output_type": "stream",
     "text": [
      "            population    area\n",
      "California    38332521  423967\n",
      "Texas         26448193  695662\n",
      "New York      19651127  141297\n",
      "Florida       19552860  170312\n",
      "Illinois      12882135  149995\n"
     ]
    }
   ],
   "source": [
    "states = pd.DataFrame({'population':population,'area':area})\n",
    "print(states)"
   ]
  },
  {
   "cell_type": "code",
   "execution_count": 70,
   "id": "56896a0d-d709-4ad1-9e14-f8ffd07f486d",
   "metadata": {},
   "outputs": [
    {
     "name": "stdout",
     "output_type": "stream",
     "text": [
      "Index(['California', 'Texas', 'New York', 'Florida', 'Illinois'], dtype='object')\n"
     ]
    }
   ],
   "source": [
    "print(states.index)"
   ]
  },
  {
   "cell_type": "code",
   "execution_count": 71,
   "id": "e6d698ce-af4e-4500-8ffa-732404aa5b45",
   "metadata": {},
   "outputs": [
    {
     "data": {
      "text/plain": [
       "Index(['population', 'area'], dtype='object')"
      ]
     },
     "execution_count": 71,
     "metadata": {},
     "output_type": "execute_result"
    }
   ],
   "source": [
    "states.columns"
   ]
  },
  {
   "cell_type": "code",
   "execution_count": 73,
   "id": "d7fa8114-3fc0-426d-9849-8972fea6e8ec",
   "metadata": {},
   "outputs": [
    {
     "data": {
      "text/plain": [
       "California    423967\n",
       "Texas         695662\n",
       "New York      141297\n",
       "Florida       170312\n",
       "Illinois      149995\n",
       "Name: area, dtype: int64"
      ]
     },
     "execution_count": 73,
     "metadata": {},
     "output_type": "execute_result"
    }
   ],
   "source": [
    "states['area']"
   ]
  },
  {
   "cell_type": "code",
   "execution_count": 75,
   "id": "60b93f98-207f-43aa-8f5b-47ef9985eb2d",
   "metadata": {},
   "outputs": [
    {
     "name": "stdout",
     "output_type": "stream",
     "text": [
      "[[0.58201979 0.53737323]\n",
      " [0.75861562 0.10590761]\n",
      " [0.47360042 0.18633234]]\n",
      "        foo       bar\n",
      "a  0.582020  0.537373\n",
      "b  0.758616  0.105908\n",
      "c  0.473600  0.186332\n"
     ]
    }
   ],
   "source": [
    "arr = np.random.rand(3,2)\n",
    "print(arr)\n",
    "arr_df = pd.DataFrame(arr, columns= ['foo','bar'], index=['a','b','c'])\n",
    "print(arr_df)"
   ]
  },
  {
   "cell_type": "code",
   "execution_count": 78,
   "id": "8c4ca53f-22d6-4442-a4ea-457fdf11400c",
   "metadata": {},
   "outputs": [
    {
     "name": "stdout",
     "output_type": "stream",
     "text": [
      "a    0.25\n",
      "b    0.50\n",
      "c    0.75\n",
      "d    1.00\n",
      "dtype: float64\n",
      "0.5\n",
      "True\n",
      "False\n"
     ]
    }
   ],
   "source": [
    "ser = pd.Series([0.25,0.5,0.75,1.0],index=['a','b','c','d'])\n",
    "print(ser)\n",
    "print(ser['b'])\n",
    "print('a' in ser)\n",
    "print(0.25 in ser)"
   ]
  },
  {
   "cell_type": "code",
   "execution_count": 80,
   "id": "8fae6900-dc48-4cdd-aa44-d8d3f8ace7b9",
   "metadata": {},
   "outputs": [
    {
     "name": "stdout",
     "output_type": "stream",
     "text": [
      "Index(['a', 'b', 'c', 'd'], dtype='object')\n",
      "a    0.125\n",
      "b    0.500\n",
      "c    0.750\n",
      "d    1.000\n",
      "e    1.250\n",
      "dtype: float64\n"
     ]
    }
   ],
   "source": [
    "print(ser.keys())\n",
    "ser['e']=1.25\n",
    "ser['a']=0.125\n",
    "print(ser)"
   ]
  },
  {
   "cell_type": "code",
   "execution_count": 81,
   "id": "7d8f27b0-7c79-4581-8198-ec5601b9a78e",
   "metadata": {},
   "outputs": [
    {
     "name": "stdout",
     "output_type": "stream",
     "text": [
      "a    0.125\n",
      "b    0.500\n",
      "c    0.750\n",
      "dtype: float64\n",
      "b    0.50\n",
      "c    0.75\n",
      "dtype: float64\n",
      "a    0.125\n",
      "e    1.250\n",
      "dtype: float64\n"
     ]
    }
   ],
   "source": [
    "print(ser['a':'c'])\n",
    "print(ser[(ser>0.3) & (ser<0.8)])\n",
    "print(ser[['a','e']])"
   ]
  },
  {
   "cell_type": "code",
   "execution_count": 82,
   "id": "b4234396-e00d-4c6b-820b-da5ea8a8c092",
   "metadata": {},
   "outputs": [
    {
     "name": "stdout",
     "output_type": "stream",
     "text": [
      "a    0.125\n",
      "b    0.500\n",
      "c    0.750\n",
      "dtype: float64\n",
      "a    0.125\n",
      "b    0.500\n",
      "dtype: float64\n"
     ]
    }
   ],
   "source": [
    "print(ser['a':'c'])\n",
    "print(ser[0:2])"
   ]
  },
  {
   "cell_type": "code",
   "execution_count": 86,
   "id": "0ed04474-18e7-4ff8-8e53-b3d07f36973d",
   "metadata": {},
   "outputs": [
    {
     "name": "stdout",
     "output_type": "stream",
     "text": [
      "California    423967\n",
      "Texas         695662\n",
      "New York      141297\n",
      "Florida       170312\n",
      "Illinois      149995\n",
      "Name: area, dtype: int64\n",
      "California    423967\n",
      "Texas         695662\n",
      "New York      141297\n",
      "Florida       170312\n",
      "Illinois      149995\n",
      "Name: area, dtype: int64\n"
     ]
    }
   ],
   "source": [
    "print(states['area'])\n",
    "print(states.area)"
   ]
  },
  {
   "cell_type": "code",
   "execution_count": 99,
   "id": "bd380ff0-40d1-4538-8854-215dacd6040a",
   "metadata": {},
   "outputs": [
    {
     "name": "stdout",
     "output_type": "stream",
     "text": [
      "California     90.413926\n",
      "Texas          38.018740\n",
      "New York      139.076746\n",
      "Florida       114.806121\n",
      "Illinois       85.883763\n",
      "Name: density, dtype: float64\n"
     ]
    }
   ],
   "source": [
    "states['density'] = states['population']/states['area']\n",
    "print(states['density'])"
   ]
  },
  {
   "cell_type": "code",
   "execution_count": 90,
   "id": "795b13a2-890f-46ec-8555-57bc29353232",
   "metadata": {},
   "outputs": [
    {
     "name": "stdout",
     "output_type": "stream",
     "text": [
      "a\n",
      "1    a\n",
      "3    b\n",
      "dtype: object\n",
      "b\n",
      "3    b\n",
      "5    c\n",
      "dtype: object\n"
     ]
    }
   ],
   "source": [
    "ser = pd.Series(['a','b','c'],index=[1,3,5])\n",
    "print(ser.loc[1])\n",
    "print(ser.loc[1:3])\n",
    "print(ser.iloc[1])\n",
    "print(ser.iloc[1:3])"
   ]
  },
  {
   "cell_type": "code",
   "execution_count": 100,
   "id": "c9214ba2-b423-4951-b976-f00e7641d151",
   "metadata": {},
   "outputs": [
    {
     "name": "stdout",
     "output_type": "stream",
     "text": [
      "90.41392608386974\n",
      "90.0\n"
     ]
    }
   ],
   "source": [
    "states.loc[states.density > 100, ['population', 'density']]\n",
    "print(states.iloc[0,2])\n",
    "states.iloc[0,2] = 90\n",
    "print(states.iloc[0,2])"
   ]
  },
  {
   "cell_type": "code",
   "execution_count": 101,
   "id": "0c25dd19-f086-4e44-a8ef-ad61d41dd6de",
   "metadata": {},
   "outputs": [
    {
     "name": "stdout",
     "output_type": "stream",
     "text": [
      "[1 2 3 4 5 6 7 8 9]\n"
     ]
    }
   ],
   "source": [
    "x = [1, 2, 3]\n",
    "y = [4, 5, 6]\n",
    "z = [7, 8, 9]\n",
    "\n",
    "print(np.concatenate([x,y,z]))"
   ]
  },
  {
   "cell_type": "code",
   "execution_count": 102,
   "id": "44eda1d2-b52c-4462-9e15-c0f0cbc68da4",
   "metadata": {},
   "outputs": [
    {
     "data": {
      "text/plain": [
       "1    A\n",
       "2    B\n",
       "3    C\n",
       "4    D\n",
       "5    E\n",
       "6    F\n",
       "dtype: object"
      ]
     },
     "execution_count": 102,
     "metadata": {},
     "output_type": "execute_result"
    }
   ],
   "source": [
    "ser1 = pd.Series(['A', 'B', 'C'], index=[1, 2, 3])\n",
    "ser2 = pd.Series(['D', 'E', 'F'], index=[4, 5, 6])\n",
    "\n",
    "pd.concat([ser1,ser2])"
   ]
  },
  {
   "cell_type": "code",
   "execution_count": 104,
   "id": "9c42e065-79d1-43db-a172-ad1d0ad630ec",
   "metadata": {},
   "outputs": [
    {
     "name": "stdout",
     "output_type": "stream",
     "text": [
      "    A   B   C\n",
      "1  A1  B1  C1\n",
      "2  A2  B2  C2\n"
     ]
    }
   ],
   "source": [
    "def make_df(cols,ind):\n",
    "    data = {c: [str(c) + str(i) for i in ind]\n",
    "            for c in cols}\n",
    "    return pd.DataFrame(data, ind)\n",
    "\n",
    "x = make_df('ABC',[1,2])\n",
    "print(x)"
   ]
  },
  {
   "cell_type": "code",
   "execution_count": 105,
   "id": "8cfb0662-d8c0-44b5-b4c3-dfe7c2f79543",
   "metadata": {},
   "outputs": [
    {
     "data": {
      "text/html": [
       "<div>\n",
       "<style scoped>\n",
       "    .dataframe tbody tr th:only-of-type {\n",
       "        vertical-align: middle;\n",
       "    }\n",
       "\n",
       "    .dataframe tbody tr th {\n",
       "        vertical-align: top;\n",
       "    }\n",
       "\n",
       "    .dataframe thead th {\n",
       "        text-align: right;\n",
       "    }\n",
       "</style>\n",
       "<table border=\"1\" class=\"dataframe\">\n",
       "  <thead>\n",
       "    <tr style=\"text-align: right;\">\n",
       "      <th></th>\n",
       "      <th>A</th>\n",
       "      <th>B</th>\n",
       "    </tr>\n",
       "  </thead>\n",
       "  <tbody>\n",
       "    <tr>\n",
       "      <th>1</th>\n",
       "      <td>A1</td>\n",
       "      <td>B1</td>\n",
       "    </tr>\n",
       "    <tr>\n",
       "      <th>2</th>\n",
       "      <td>A2</td>\n",
       "      <td>B2</td>\n",
       "    </tr>\n",
       "    <tr>\n",
       "      <th>3</th>\n",
       "      <td>A3</td>\n",
       "      <td>B3</td>\n",
       "    </tr>\n",
       "    <tr>\n",
       "      <th>4</th>\n",
       "      <td>A4</td>\n",
       "      <td>B4</td>\n",
       "    </tr>\n",
       "  </tbody>\n",
       "</table>\n",
       "</div>"
      ],
      "text/plain": [
       "    A   B\n",
       "1  A1  B1\n",
       "2  A2  B2\n",
       "3  A3  B3\n",
       "4  A4  B4"
      ]
     },
     "execution_count": 105,
     "metadata": {},
     "output_type": "execute_result"
    }
   ],
   "source": [
    "df1 = make_df('AB',[1,2])\n",
    "df2 = make_df('AB',[3,4])\n",
    "\n",
    "pd.concat([df1,df2])"
   ]
  },
  {
   "cell_type": "code",
   "execution_count": 106,
   "id": "a626ef4c-04ad-4d3b-8c58-a8639d4d283e",
   "metadata": {},
   "outputs": [
    {
     "name": "stdout",
     "output_type": "stream",
     "text": [
      "    A   B   C   D\n",
      "0  A0  B0  C0  D0\n",
      "1  A1  B1  C1  D1\n"
     ]
    }
   ],
   "source": [
    "df3 = make_df('AB', [0, 1])\n",
    "df4 = make_df('CD', [0, 1])\n",
    "\n",
    "print(pd.concat([df3, df4], axis=1))"
   ]
  },
  {
   "cell_type": "code",
   "execution_count": 108,
   "id": "5e300a1e-3514-43db-9e9f-3511ad50c4ce",
   "metadata": {},
   "outputs": [
    {
     "name": "stdout",
     "output_type": "stream",
     "text": [
      "     A   B   C    D\n",
      "1   A1  B1  C1  NaN\n",
      "2   A2  B2  C2  NaN\n",
      "3  NaN  B3  C3   D3\n",
      "4  NaN  B4  C4   D4\n",
      "    B   C\n",
      "1  B1  C1\n",
      "2  B2  C2\n",
      "3  B3  C3\n",
      "4  B4  C4\n"
     ]
    }
   ],
   "source": [
    "x = make_df('ABC',[1,2])\n",
    "y = make_df('BCD',[3,4])\n",
    "\n",
    "print(pd.concat([x,y], join = 'outer'))\n",
    "print(pd.concat([x,y], join = 'inner'))"
   ]
  },
  {
   "cell_type": "code",
   "execution_count": 118,
   "id": "56446278-32e2-4708-9f6c-a1577b97b41e",
   "metadata": {},
   "outputs": [
    {
     "name": "stdout",
     "output_type": "stream",
     "text": [
      "  employee group\n",
      "0      Bob   Acc\n",
      "1     Jake   Eng\n",
      "2     Lisa   Eng\n",
      "3      Sue    HR\n"
     ]
    }
   ],
   "source": [
    "arr = np.array([['Bob','Acc'],['Jake','Eng'],['Lisa','Eng'],['Sue','HR']])\n",
    "df1 = pd.DataFrame(arr, columns= ['employee','group'])\n",
    "print(df1)"
   ]
  },
  {
   "cell_type": "code",
   "execution_count": 119,
   "id": "ebdd227f-cdfb-4356-a5d5-0f845548af2e",
   "metadata": {},
   "outputs": [
    {
     "name": "stdout",
     "output_type": "stream",
     "text": [
      "  employee hire_date\n",
      "0     Lisa      2004\n",
      "1      Bob      2008\n",
      "2     Jake      2012\n",
      "3      Sue      2014\n"
     ]
    }
   ],
   "source": [
    "df2 = pd.DataFrame(np.array([['Lisa',2004],['Bob',2008],['Jake',2012],['Sue',2014]]), columns= ['employee','hire_date'])\n",
    "print(df2)"
   ]
  },
  {
   "cell_type": "code",
   "execution_count": 122,
   "id": "4dd3f711-9069-4483-9886-b3924d863878",
   "metadata": {},
   "outputs": [
    {
     "name": "stdout",
     "output_type": "stream",
     "text": [
      "  employee group hire_date\n",
      "0      Bob   Acc      2008\n",
      "1     Jake   Eng      2012\n",
      "2     Lisa   Eng      2004\n",
      "3      Sue    HR      2014\n"
     ]
    }
   ],
   "source": [
    "df3 = pd.merge(df1,df2)\n",
    "print(df3)"
   ]
  },
  {
   "cell_type": "code",
   "execution_count": 126,
   "id": "0c2ad830-78b9-41f2-8ed9-a2e818694a7a",
   "metadata": {},
   "outputs": [
    {
     "name": "stdout",
     "output_type": "stream",
     "text": [
      "  group supervisor\n",
      "0   Acc      Carly\n",
      "1   Eng      Guido\n",
      "2    HR      Steve\n"
     ]
    }
   ],
   "source": [
    "df4 = pd.DataFrame(np.array([['Acc','Carly'],['Eng','Guido'],['HR','Steve']]),columns = ['group','supervisor'])\n",
    "print(df4)"
   ]
  },
  {
   "cell_type": "code",
   "execution_count": 128,
   "id": "3ef45654-aeca-4d5d-8500-714650569fd0",
   "metadata": {},
   "outputs": [
    {
     "name": "stdout",
     "output_type": "stream",
     "text": [
      "  employee group hire_date supervisor\n",
      "0      Bob   Acc      2008      Carly\n",
      "1     Jake   Eng      2012      Guido\n",
      "2     Lisa   Eng      2004      Guido\n",
      "3      Sue    HR      2014      Steve\n"
     ]
    }
   ],
   "source": [
    "print(pd.merge(df3,df4))"
   ]
  },
  {
   "cell_type": "code",
   "execution_count": 130,
   "id": "0806895a-1154-4a76-bf96-08e012f7d71e",
   "metadata": {},
   "outputs": [
    {
     "name": "stdout",
     "output_type": "stream",
     "text": [
      "  group  skills\n",
      "0   Acc    math\n",
      "1   Acc     spr\n",
      "2   Eng  coding\n",
      "3   Eng   linux\n",
      "4    HR      sp\n",
      "5    HR     org\n"
     ]
    }
   ],
   "source": [
    "df5 = pd.DataFrame(np.array([['Acc','math'],['Acc','spr'],['Eng','coding'],['Eng','linux'],['HR','sp'],['HR','org']]),columns = ['group','skills'])\n",
    "print(df5)"
   ]
  },
  {
   "cell_type": "code",
   "execution_count": 132,
   "id": "d4b5fc3c-e843-42c5-bf15-ae7be9d52ea2",
   "metadata": {},
   "outputs": [
    {
     "name": "stdout",
     "output_type": "stream",
     "text": [
      "  employee group  skills\n",
      "0      Bob   Acc    math\n",
      "1      Bob   Acc     spr\n",
      "2     Jake   Eng  coding\n",
      "3     Jake   Eng   linux\n",
      "4     Lisa   Eng  coding\n",
      "5     Lisa   Eng   linux\n",
      "6      Sue    HR      sp\n",
      "7      Sue    HR     org\n"
     ]
    }
   ],
   "source": [
    "print(pd.merge(df1,df5))"
   ]
  },
  {
   "cell_type": "code",
   "execution_count": 133,
   "id": "a88dc28c-b238-47ae-b322-ac3b3e9add02",
   "metadata": {},
   "outputs": [
    {
     "name": "stdout",
     "output_type": "stream",
     "text": [
      "2021-11-11 00:00:00\n"
     ]
    }
   ],
   "source": [
    "from datetime import datetime\n",
    "print(datetime(year=2021, month=11, day=11))"
   ]
  },
  {
   "cell_type": "code",
   "execution_count": 134,
   "id": "f0b21ea8-c390-40a5-bae9-46c1a1836a3e",
   "metadata": {},
   "outputs": [
    {
     "name": "stdout",
     "output_type": "stream",
     "text": [
      "2021-11-11 00:00:00\n"
     ]
    }
   ],
   "source": [
    "from dateutil import parser\n",
    "date = parser.parse(\"11th of November, 2021\")\n",
    "print(date)"
   ]
  },
  {
   "cell_type": "code",
   "execution_count": 136,
   "id": "ba2216e8-805c-47da-b122-f290a8d9b432",
   "metadata": {},
   "outputs": [
    {
     "data": {
      "text/plain": [
       "'Thursday'"
      ]
     },
     "execution_count": 136,
     "metadata": {},
     "output_type": "execute_result"
    }
   ],
   "source": [
    "date.strftime('%A')"
   ]
  },
  {
   "cell_type": "code",
   "execution_count": 138,
   "id": "d5d3a4c0-86cc-4a1a-a8fb-b68150ad5230",
   "metadata": {},
   "outputs": [
    {
     "name": "stdout",
     "output_type": "stream",
     "text": [
      "2021-11-11\n",
      "2021-11-11\n"
     ]
    }
   ],
   "source": [
    "date = np.array('2021-11-11')\n",
    "print(date)\n",
    "date = np.datetime64('2021-11-11')\n",
    "print(date)"
   ]
  },
  {
   "cell_type": "code",
   "execution_count": 139,
   "id": "87badd09-0a5a-40c0-9601-6cb7df48e2f9",
   "metadata": {},
   "outputs": [
    {
     "name": "stdout",
     "output_type": "stream",
     "text": [
      "['2021-11-11' '2021-11-12' '2021-11-13' '2021-11-14' '2021-11-15'\n",
      " '2021-11-16' '2021-11-17' '2021-11-18' '2021-11-19' '2021-11-20'\n",
      " '2021-11-21' '2021-11-22']\n"
     ]
    }
   ],
   "source": [
    "print(date + np.arange(12))"
   ]
  },
  {
   "cell_type": "code",
   "execution_count": 140,
   "id": "953153d2-eead-472c-bdfa-9c588c7661c0",
   "metadata": {},
   "outputs": [
    {
     "name": "stdout",
     "output_type": "stream",
     "text": [
      "2021-11-11T16:05\n"
     ]
    }
   ],
   "source": [
    "t = np.datetime64('2021-11-11 16:05')\n",
    "print(t)"
   ]
  },
  {
   "cell_type": "code",
   "execution_count": 141,
   "id": "920be835-fc4c-4525-b37f-769aa864213e",
   "metadata": {},
   "outputs": [
    {
     "name": "stdout",
     "output_type": "stream",
     "text": [
      "2021-11-11T16:06:10.200000000\n"
     ]
    }
   ],
   "source": [
    "t = np.datetime64('2021-11-11 16:06:10.20','ns')\n",
    "print(t)"
   ]
  },
  {
   "cell_type": "code",
   "execution_count": 144,
   "id": "d84b87c7-5d84-478b-840c-748dcb126ae8",
   "metadata": {},
   "outputs": [
    {
     "name": "stdout",
     "output_type": "stream",
     "text": [
      "2021-11-11 00:00:00\n",
      "DatetimeIndex([          '2021-11-11 00:00:00',\n",
      "               '2021-11-11 00:00:00.000000001',\n",
      "               '2021-11-11 00:00:00.000000002',\n",
      "               '2021-11-11 00:00:00.000000003',\n",
      "               '2021-11-11 00:00:00.000000004',\n",
      "               '2021-11-11 00:00:00.000000005',\n",
      "               '2021-11-11 00:00:00.000000006'],\n",
      "              dtype='datetime64[ns]', freq=None)\n",
      "Thursday\n"
     ]
    }
   ],
   "source": [
    "date = pd.to_datetime('11th of November, 2021')\n",
    "print(date)\n",
    "print(date+pd.to_timedelta(np.arange(7)))\n",
    "print(date.strftime('%A'))"
   ]
  },
  {
   "cell_type": "code",
   "execution_count": 145,
   "id": "6d059859-80e5-49d5-8980-2a106ed92cf2",
   "metadata": {},
   "outputs": [
    {
     "name": "stdout",
     "output_type": "stream",
     "text": [
      "2021-10-27    0\n",
      "2021-10-28    1\n",
      "2021-10-29    2\n",
      "2021-10-30    3\n",
      "2021-10-31    4\n",
      "2021-11-01    5\n",
      "2021-11-02    6\n",
      "dtype: int64\n"
     ]
    }
   ],
   "source": [
    "ind = pd.DatetimeIndex(['2021-10-27', '2021-10-28', '2021-10-29', '2021-10-30', \n",
    "'2021-10-31', '2021-11-01', '2021-11-02'])\n",
    "\n",
    "ser = pd.Series([0,1,2,3,4,5,6],index = ind)\n",
    "print(ser)"
   ]
  },
  {
   "cell_type": "code",
   "execution_count": 146,
   "id": "2efe1fee-3bc7-437f-b333-3fb736f44d61",
   "metadata": {},
   "outputs": [
    {
     "name": "stdout",
     "output_type": "stream",
     "text": [
      "2021-10-27    0\n",
      "2021-10-28    1\n",
      "2021-10-29    2\n",
      "2021-10-30    3\n",
      "2021-10-31    4\n",
      "dtype: int64\n"
     ]
    }
   ],
   "source": [
    "print(ser['2021-10-27':'2021-10-31'])"
   ]
  },
  {
   "cell_type": "code",
   "execution_count": 147,
   "id": "3eb5d8c3-9116-4636-9c85-aceca35e4b71",
   "metadata": {},
   "outputs": [
    {
     "name": "stdout",
     "output_type": "stream",
     "text": [
      "2021-11-01    5\n",
      "2021-11-02    6\n",
      "dtype: int64\n"
     ]
    }
   ],
   "source": [
    "print(ser['2021-11'])"
   ]
  },
  {
   "cell_type": "code",
   "execution_count": 148,
   "id": "ddad66f9-7a86-4f99-9181-5f1ffc67bed6",
   "metadata": {},
   "outputs": [
    {
     "name": "stdout",
     "output_type": "stream",
     "text": [
      "DatetimeIndex(['2015-07-03', '2015-07-04', '2015-07-06', '2015-07-07',\n",
      "               '2015-07-08'],\n",
      "              dtype='datetime64[ns]', freq=None)\n"
     ]
    }
   ],
   "source": [
    "dates = pd.to_datetime([datetime(2015, 7, 3), \"4th of July, 2015\",'2015-Jul-6','07-07-2015','20150708'])\n",
    "print(dates)"
   ]
  },
  {
   "cell_type": "code",
   "execution_count": 149,
   "id": "3b1ad009-78bb-4cbb-9800-cfdd96eeb24c",
   "metadata": {},
   "outputs": [
    {
     "name": "stdout",
     "output_type": "stream",
     "text": [
      "PeriodIndex(['2015-07-03', '2015-07-04', '2015-07-06', '2015-07-07',\n",
      "             '2015-07-08'],\n",
      "            dtype='period[D]', freq='D')\n"
     ]
    }
   ],
   "source": [
    "print(dates.to_period('D'))"
   ]
  },
  {
   "cell_type": "code",
   "execution_count": 151,
   "id": "bd16078f-f17d-497a-a24f-0022714d9cd7",
   "metadata": {},
   "outputs": [
    {
     "name": "stdout",
     "output_type": "stream",
     "text": [
      "PeriodIndex(['2015-06-29/2015-07-05', '2015-06-29/2015-07-05',\n",
      "             '2015-07-06/2015-07-12', '2015-07-06/2015-07-12',\n",
      "             '2015-07-06/2015-07-12'],\n",
      "            dtype='period[W-SUN]', freq='W-SUN')\n"
     ]
    }
   ],
   "source": [
    "print(dates.to_period('W'))"
   ]
  },
  {
   "cell_type": "code",
   "execution_count": 152,
   "id": "029e96bb-0ab2-4418-9884-48ed17b89fff",
   "metadata": {},
   "outputs": [
    {
     "name": "stdout",
     "output_type": "stream",
     "text": [
      "TimedeltaIndex(['0 days', '1 days', '3 days', '4 days', '5 days'], dtype='timedelta64[ns]', freq=None)\n"
     ]
    }
   ],
   "source": [
    "print(dates - dates[0])"
   ]
  },
  {
   "cell_type": "code",
   "execution_count": 153,
   "id": "2c050384-d79d-4ae9-99e9-59528da41ba0",
   "metadata": {},
   "outputs": [
    {
     "name": "stdout",
     "output_type": "stream",
     "text": [
      "DatetimeIndex(['2021-10-27', '2021-10-28', '2021-10-29', '2021-10-30',\n",
      "               '2021-10-31'],\n",
      "              dtype='datetime64[ns]', freq='D')\n"
     ]
    }
   ],
   "source": [
    "print(pd.date_range('2021-10-27', '2021-10-31'))"
   ]
  },
  {
   "cell_type": "code",
   "execution_count": 154,
   "id": "2c0d410d-b665-4b7a-9510-0f24309fd47a",
   "metadata": {},
   "outputs": [
    {
     "data": {
      "text/plain": [
       "DatetimeIndex(['2021-10-27', '2021-10-28', '2021-10-29', '2021-10-30',\n",
       "               '2021-10-31'],\n",
       "              dtype='datetime64[ns]', freq='D')"
      ]
     },
     "execution_count": 154,
     "metadata": {},
     "output_type": "execute_result"
    }
   ],
   "source": [
    "pd.date_range('2021-10-27', periods=5)"
   ]
  },
  {
   "cell_type": "code",
   "execution_count": 156,
   "id": "182600fb-30c1-49a8-9256-3ab6715b2e94",
   "metadata": {},
   "outputs": [
    {
     "data": {
      "text/plain": [
       "DatetimeIndex(['2021-10-27 00:00:00', '2021-10-27 01:00:00',\n",
       "               '2021-10-27 02:00:00', '2021-10-27 03:00:00',\n",
       "               '2021-10-27 04:00:00', '2021-10-27 05:00:00',\n",
       "               '2021-10-27 06:00:00', '2021-10-27 07:00:00',\n",
       "               '2021-10-27 08:00:00', '2021-10-27 09:00:00',\n",
       "               '2021-10-27 10:00:00', '2021-10-27 11:00:00'],\n",
       "              dtype='datetime64[ns]', freq='H')"
      ]
     },
     "execution_count": 156,
     "metadata": {},
     "output_type": "execute_result"
    }
   ],
   "source": [
    "pd.date_range('2021-10-27', periods=12, freq='H')"
   ]
  },
  {
   "cell_type": "code",
   "execution_count": 157,
   "id": "47e9427d-ec47-483d-9218-fda5e20c0755",
   "metadata": {},
   "outputs": [
    {
     "data": {
      "text/plain": [
       "PeriodIndex(['2021-10', '2021-11', '2021-12', '2022-01', '2022-02', '2022-03',\n",
       "             '2022-04', '2022-05', '2022-06', '2022-07', '2022-08', '2022-09'],\n",
       "            dtype='period[M]', freq='M')"
      ]
     },
     "execution_count": 157,
     "metadata": {},
     "output_type": "execute_result"
    }
   ],
   "source": [
    "pd.period_range('2021-10', periods=12, freq='M')"
   ]
  },
  {
   "cell_type": "code",
   "execution_count": 159,
   "id": "bc1660de-cfe2-40e2-a9c6-58a7b23eb3f6",
   "metadata": {},
   "outputs": [
    {
     "data": {
      "text/plain": [
       "TimedeltaIndex(['0 days 00:00:00', '0 days 01:00:00', '0 days 02:00:00',\n",
       "                '0 days 03:00:00', '0 days 04:00:00', '0 days 05:00:00',\n",
       "                '0 days 06:00:00', '0 days 07:00:00', '0 days 08:00:00',\n",
       "                '0 days 09:00:00'],\n",
       "               dtype='timedelta64[ns]', freq='H')"
      ]
     },
     "execution_count": 159,
     "metadata": {},
     "output_type": "execute_result"
    }
   ],
   "source": [
    "pd.timedelta_range(0, periods=10, freq='H')"
   ]
  },
  {
   "cell_type": "code",
   "execution_count": 161,
   "id": "0ccf10a4-be37-469c-91ab-3c54f6258636",
   "metadata": {},
   "outputs": [
    {
     "data": {
      "text/plain": [
       "DatetimeIndex(['2021-11-30', '2021-12-31', '2022-01-31', '2022-02-28',\n",
       "               '2022-03-31', '2022-04-30', '2022-05-31', '2022-06-30',\n",
       "               '2022-07-31', '2022-08-31'],\n",
       "              dtype='datetime64[ns]', freq='M')"
      ]
     },
     "execution_count": 161,
     "metadata": {},
     "output_type": "execute_result"
    }
   ],
   "source": [
    "pd.date_range('2021-11-01', periods=10, freq=\"M\")"
   ]
  },
  {
   "cell_type": "code",
   "execution_count": 162,
   "id": "ebb114ef-8c27-44fd-9b68-9f6525887d9f",
   "metadata": {},
   "outputs": [
    {
     "data": {
      "text/plain": [
       "DatetimeIndex(['2021-11-30', '2021-12-31', '2022-01-31', '2022-02-28',\n",
       "               '2022-03-31', '2022-04-29', '2022-05-31', '2022-06-30',\n",
       "               '2022-07-29', '2022-08-31'],\n",
       "              dtype='datetime64[ns]', freq='BM')"
      ]
     },
     "execution_count": 162,
     "metadata": {},
     "output_type": "execute_result"
    }
   ],
   "source": [
    "pd.date_range('2021-11-01', periods=10, freq=\"BM\")"
   ]
  },
  {
   "cell_type": "code",
   "execution_count": 163,
   "id": "f6d8d8d3-4226-48b8-bff5-1c367ba9e19e",
   "metadata": {},
   "outputs": [
    {
     "data": {
      "text/plain": [
       "DatetimeIndex(['2021-11-01', '2021-12-01', '2022-01-01', '2022-02-01',\n",
       "               '2022-03-01', '2022-04-01', '2022-05-01', '2022-06-01',\n",
       "               '2022-07-01', '2022-08-01'],\n",
       "              dtype='datetime64[ns]', freq='MS')"
      ]
     },
     "execution_count": 163,
     "metadata": {},
     "output_type": "execute_result"
    }
   ],
   "source": [
    "pd.date_range('2021-11-01', periods=10, freq=\"MS\")"
   ]
  },
  {
   "cell_type": "code",
   "execution_count": 164,
   "id": "c05f218b-495d-43f7-9071-8675797e6473",
   "metadata": {},
   "outputs": [
    {
     "data": {
      "text/plain": [
       "DatetimeIndex(['2021-11-01 00:00:00', '2021-11-01 02:30:00',\n",
       "               '2021-11-01 05:00:00', '2021-11-01 07:30:00',\n",
       "               '2021-11-01 10:00:00', '2021-11-01 12:30:00',\n",
       "               '2021-11-01 15:00:00', '2021-11-01 17:30:00',\n",
       "               '2021-11-01 20:00:00'],\n",
       "              dtype='datetime64[ns]', freq='150T')"
      ]
     },
     "execution_count": 164,
     "metadata": {},
     "output_type": "execute_result"
    }
   ],
   "source": [
    "pd.date_range('2021-11-01', periods=9, freq='2H30T')"
   ]
  },
  {
   "cell_type": "code",
   "execution_count": 165,
   "id": "626ed84a-f1e4-498b-b28f-657d892e5287",
   "metadata": {},
   "outputs": [
    {
     "name": "stdout",
     "output_type": "stream",
     "text": [
      "2021-11-02 15:28:30\n"
     ]
    }
   ],
   "source": [
    "from pandas.tseries.offsets import DateOffset\n",
    "ts = pd.Timestamp('2021-10-31 23:28:30')\n",
    "print(ts + DateOffset(hours=40))"
   ]
  },
  {
   "cell_type": "code",
   "execution_count": 166,
   "id": "ca06d28e-46af-4052-a37e-88d9b45ef873",
   "metadata": {},
   "outputs": [
    {
     "data": {
      "text/plain": [
       "Timestamp('1950-06-25 04:00:00')"
      ]
     },
     "execution_count": 166,
     "metadata": {},
     "output_type": "execute_result"
    }
   ],
   "source": [
    "ts - DateOffset(years=71, months=4, days=5, hours=19, minutes=28, seconds=30)"
   ]
  },
  {
   "cell_type": "code",
   "execution_count": 167,
   "id": "b742cfd5-863d-43ea-adbf-ecc4b10831da",
   "metadata": {},
   "outputs": [
    {
     "name": "stdout",
     "output_type": "stream",
     "text": [
      "Collecting pandas_datareader\n",
      "  Downloading pandas_datareader-0.10.0-py3-none-any.whl (109 kB)\n",
      "Requirement already satisfied: requests>=2.19.0 in c:\\users\\happy\\anaconda3\\lib\\site-packages (from pandas_datareader) (2.25.1)\n",
      "Requirement already satisfied: lxml in c:\\users\\happy\\anaconda3\\lib\\site-packages (from pandas_datareader) (4.6.3)\n",
      "Requirement already satisfied: pandas>=0.23 in c:\\users\\happy\\anaconda3\\lib\\site-packages (from pandas_datareader) (1.2.4)\n",
      "Requirement already satisfied: pytz>=2017.3 in c:\\users\\happy\\anaconda3\\lib\\site-packages (from pandas>=0.23->pandas_datareader) (2021.1)\n",
      "Requirement already satisfied: numpy>=1.16.5 in c:\\users\\happy\\anaconda3\\lib\\site-packages (from pandas>=0.23->pandas_datareader) (1.20.1)\n",
      "Requirement already satisfied: python-dateutil>=2.7.3 in c:\\users\\happy\\anaconda3\\lib\\site-packages (from pandas>=0.23->pandas_datareader) (2.8.1)\n",
      "Requirement already satisfied: six>=1.5 in c:\\users\\happy\\anaconda3\\lib\\site-packages (from python-dateutil>=2.7.3->pandas>=0.23->pandas_datareader) (1.15.0)\n",
      "Requirement already satisfied: chardet<5,>=3.0.2 in c:\\users\\happy\\anaconda3\\lib\\site-packages (from requests>=2.19.0->pandas_datareader) (4.0.0)\n",
      "Requirement already satisfied: idna<3,>=2.5 in c:\\users\\happy\\anaconda3\\lib\\site-packages (from requests>=2.19.0->pandas_datareader) (2.10)\n",
      "Requirement already satisfied: certifi>=2017.4.17 in c:\\users\\happy\\anaconda3\\lib\\site-packages (from requests>=2.19.0->pandas_datareader) (2020.12.5)\n",
      "Requirement already satisfied: urllib3<1.27,>=1.21.1 in c:\\users\\happy\\anaconda3\\lib\\site-packages (from requests>=2.19.0->pandas_datareader) (1.26.4)\n",
      "Installing collected packages: pandas-datareader\n",
      "Successfully installed pandas-datareader-0.10.0\n",
      "Note: you may need to restart the kernel to use updated packages.\n"
     ]
    }
   ],
   "source": [
    "pip install pandas_datareader"
   ]
  },
  {
   "cell_type": "code",
   "execution_count": null,
   "id": "e31a6999-07de-4bb0-937b-d3d4353bd0ba",
   "metadata": {},
   "outputs": [],
   "source": []
  }
 ],
 "metadata": {
  "kernelspec": {
   "display_name": "Python 3",
   "language": "python",
   "name": "python3"
  },
  "language_info": {
   "codemirror_mode": {
    "name": "ipython",
    "version": 3
   },
   "file_extension": ".py",
   "mimetype": "text/x-python",
   "name": "python",
   "nbconvert_exporter": "python",
   "pygments_lexer": "ipython3",
   "version": "3.8.8"
  }
 },
 "nbformat": 4,
 "nbformat_minor": 5
}

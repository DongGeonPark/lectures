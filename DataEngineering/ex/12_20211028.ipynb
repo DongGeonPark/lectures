{
 "cells": [
  {
   "cell_type": "code",
   "execution_count": 5,
   "id": "f6b7e22f-a173-4fbb-806a-d0a90b4bb2c7",
   "metadata": {},
   "outputs": [
    {
     "name": "stdout",
     "output_type": "stream",
     "text": [
      "<class 'datetime.datetime'>\n"
     ]
    }
   ],
   "source": [
    "\"\"\"\n",
    "Dates and Times in Native Python\n",
    "\"\"\"\n",
    "from datetime import datetime\n",
    "t = datetime(year=2021, month=10, day=27)\n",
    "print(type(t))"
   ]
  },
  {
   "cell_type": "code",
   "execution_count": 4,
   "id": "bd0a0f40-d32b-41e9-bb3d-57d62c86630d",
   "metadata": {},
   "outputs": [
    {
     "name": "stdout",
     "output_type": "stream",
     "text": [
      "2021-10-27 00:00:00\n"
     ]
    }
   ],
   "source": [
    "from dateutil import parser\n",
    "date = parser.parse(\"27th of October, 2021\")\n",
    "print(date)"
   ]
  },
  {
   "cell_type": "code",
   "execution_count": 7,
   "id": "56fae63c-b114-42ea-acde-3eaf9419379b",
   "metadata": {},
   "outputs": [
    {
     "data": {
      "text/plain": [
       "'Wednesday'"
      ]
     },
     "execution_count": 7,
     "metadata": {},
     "output_type": "execute_result"
    }
   ],
   "source": [
    "date.strftime('%A')"
   ]
  },
  {
   "cell_type": "code",
   "execution_count": 15,
   "id": "e6fda53e-d780-47d5-af79-15401810b488",
   "metadata": {},
   "outputs": [
    {
     "name": "stdout",
     "output_type": "stream",
     "text": [
      "<class 'numpy.datetime64'>\n",
      "2021-10-27\n"
     ]
    }
   ],
   "source": [
    "\"\"\"\n",
    "Types Arrays of Times:Numpy's datetime64\n",
    "\"\"\"\n",
    "import numpy as np\n",
    "date = np.array('2021-10-27', dtype=np.datetime64)\n",
    "print(type(date[0]))\n",
    "date_2 = np.datetime64('2021-10-27')\n",
    "print(date_2)"
   ]
  },
  {
   "cell_type": "code",
   "execution_count": 25,
   "id": "1928f0e6-69c5-446e-b560-720e86d86f50",
   "metadata": {},
   "outputs": [
    {
     "data": {
      "text/plain": [
       "array(['2021-10-27', '2021-10-29'], dtype='datetime64[D]')"
      ]
     },
     "execution_count": 25,
     "metadata": {},
     "output_type": "execute_result"
    }
   ],
   "source": [
    "date + np.arange(2)"
   ]
  },
  {
   "cell_type": "code",
   "execution_count": 28,
   "id": "a0c19242-3b71-4712-bc5e-a8b6b5a459d8",
   "metadata": {},
   "outputs": [
    {
     "name": "stdout",
     "output_type": "stream",
     "text": [
      "2021-10-27T09:27\n"
     ]
    }
   ],
   "source": [
    "t = np.datetime64('2021-10-27 09:27')\n",
    "print(t)"
   ]
  },
  {
   "cell_type": "code",
   "execution_count": 31,
   "id": "2d43ac9c-6808-403f-acbe-7ee1780e61f9",
   "metadata": {},
   "outputs": [
    {
     "name": "stdout",
     "output_type": "stream",
     "text": [
      "2021-10-27T09:27:10.200000000\n"
     ]
    }
   ],
   "source": [
    "t = np.datetime64('2021-10-27 09:27:10.20', 'ns')\n",
    "print(t)"
   ]
  },
  {
   "cell_type": "code",
   "execution_count": 33,
   "id": "76ec7614-51fc-4c88-bde5-9fc33e67897c",
   "metadata": {},
   "outputs": [
    {
     "name": "stdout",
     "output_type": "stream",
     "text": [
      "2021-10-27 00:00:00\n"
     ]
    }
   ],
   "source": [
    "import pandas as pd\n",
    "#Parse a string date in pandas\n",
    "date = pd.to_datetime(\"27th of October, 2021\")\n",
    "print(date)"
   ]
  },
  {
   "cell_type": "code",
   "execution_count": 36,
   "id": "634a7991-dcc1-452b-84e5-4e6fa44fb39d",
   "metadata": {},
   "outputs": [
    {
     "data": {
      "text/plain": [
       "'Wednesday'"
      ]
     },
     "execution_count": 36,
     "metadata": {},
     "output_type": "execute_result"
    }
   ],
   "source": [
    "date.strftime('%A')"
   ]
  },
  {
   "cell_type": "code",
   "execution_count": 39,
   "id": "87330bab-c2f6-4560-b418-13bc7d8b4dd3",
   "metadata": {},
   "outputs": [
    {
     "data": {
      "text/plain": [
       "DatetimeIndex([          '2021-10-27 00:00:00',\n",
       "               '2021-10-27 00:00:00.000000001',\n",
       "               '2021-10-27 00:00:00.000000002',\n",
       "               '2021-10-27 00:00:00.000000003',\n",
       "               '2021-10-27 00:00:00.000000004',\n",
       "               '2021-10-27 00:00:00.000000005',\n",
       "               '2021-10-27 00:00:00.000000006'],\n",
       "              dtype='datetime64[ns]', freq=None)"
      ]
     },
     "execution_count": 39,
     "metadata": {},
     "output_type": "execute_result"
    }
   ],
   "source": [
    "date + pd.to_timedelta(np.arange(7))"
   ]
  },
  {
   "cell_type": "code",
   "execution_count": 41,
   "id": "39faa887-75b3-4e00-a34d-966dc6bf68e1",
   "metadata": {},
   "outputs": [
    {
     "name": "stdout",
     "output_type": "stream",
     "text": [
      "DatetimeIndex(['2021-10-27', '2021-10-28', '2021-10-29', '2021-10-30',\n",
      "               '2021-10-31', '2021-11-01', '2021-11-02'],\n",
      "              dtype='datetime64[ns]', freq=None)\n",
      "2021-10-27    0\n",
      "2021-10-28    1\n",
      "2021-10-29    2\n",
      "2021-10-30    3\n",
      "2021-10-31    4\n",
      "2021-11-01    5\n",
      "2021-11-02    6\n",
      "dtype: int64\n"
     ]
    }
   ],
   "source": [
    "\"\"\"\n",
    "Pandas Time Series : Indexing by Time\n",
    "\"\"\"\n",
    "\n",
    "ind = pd.DatetimeIndex(['2021-10-27', '2021-10-28', '2021-10-29', '2021-10-30',\n",
    "'2021-10-31', '2021-11-01', '2021-11-02'])\n",
    "print(ind)\n",
    "ser = pd.Series([0,1,2,3,4,5,6], index=ind)\n",
    "print(ser)\n",
    "#Indexting by timestamps"
   ]
  },
  {
   "cell_type": "code",
   "execution_count": 44,
   "id": "719eafb1-6cce-4693-b6e2-e056a5bb8769",
   "metadata": {},
   "outputs": [
    {
     "name": "stdout",
     "output_type": "stream",
     "text": [
      "2021-10-27    0\n",
      "2021-10-28    1\n",
      "2021-10-29    2\n",
      "2021-10-30    3\n",
      "2021-10-31    4\n",
      "dtype: int64\n"
     ]
    }
   ],
   "source": [
    "print(ser['2021-10-27':'2021-10-31'])"
   ]
  },
  {
   "cell_type": "code",
   "execution_count": 55,
   "id": "76c02de3-2229-4cfa-a962-024c1cf917a8",
   "metadata": {},
   "outputs": [
    {
     "data": {
      "text/plain": [
       "PeriodIndex(['2015-07-03', '2015-07-04', '2015-07-06', '2015-07-07',\n",
       "             '2015-07-08'],\n",
       "            dtype='period[D]', freq='D')"
      ]
     },
     "execution_count": 55,
     "metadata": {},
     "output_type": "execute_result"
    }
   ],
   "source": [
    "dates = pd.to_datetime([datetime(2015, 7, 3), \"4th of July, 2015\",'2015-Jul-6',\n",
    "'07-07-2015','20150708'])\n",
    "dates.to_period('D')"
   ]
  },
  {
   "cell_type": "code",
   "execution_count": 58,
   "id": "11fd6575-89c2-47ad-aab4-f7ae66499d7a",
   "metadata": {},
   "outputs": [
    {
     "data": {
      "text/plain": [
       "TimedeltaIndex(['0 days', '1 days', '3 days', '4 days', '5 days'], dtype='timedelta64[ns]', freq=None)"
      ]
     },
     "execution_count": 58,
     "metadata": {},
     "output_type": "execute_result"
    }
   ],
   "source": [
    "dates - dates[0]"
   ]
  },
  {
   "cell_type": "code",
   "execution_count": 60,
   "id": "c4f5a16e-f019-4d11-b9ca-19574f5be36f",
   "metadata": {},
   "outputs": [
    {
     "data": {
      "text/plain": [
       "DatetimeIndex(['2021-10-27', '2021-10-28', '2021-10-29', '2021-10-30',\n",
       "               '2021-10-31'],\n",
       "              dtype='datetime64[ns]', freq='D')"
      ]
     },
     "execution_count": 60,
     "metadata": {},
     "output_type": "execute_result"
    }
   ],
   "source": [
    "pd.date_range('2021-10-27','2021-10-31')"
   ]
  },
  {
   "cell_type": "code",
   "execution_count": 63,
   "id": "87c462c6-4107-469a-ba53-5131c0b52861",
   "metadata": {},
   "outputs": [
    {
     "data": {
      "text/plain": [
       "DatetimeIndex(['2021-10-27', '2021-10-28', '2021-10-29', '2021-10-30',\n",
       "               '2021-10-31', '2021-11-01', '2021-11-02', '2021-11-03',\n",
       "               '2021-11-04', '2021-11-05', '2021-11-06', '2021-11-07'],\n",
       "              dtype='datetime64[ns]', freq='D')"
      ]
     },
     "execution_count": 63,
     "metadata": {},
     "output_type": "execute_result"
    }
   ],
   "source": [
    "pd.date_range('2021-10-27',periods=12)"
   ]
  },
  {
   "cell_type": "code",
   "execution_count": 64,
   "id": "dce213ec-1101-4598-b894-112d7e640508",
   "metadata": {},
   "outputs": [
    {
     "data": {
      "text/plain": [
       "DatetimeIndex(['2021-10-27 00:00:00', '2021-10-27 01:00:00',\n",
       "               '2021-10-27 02:00:00', '2021-10-27 03:00:00',\n",
       "               '2021-10-27 04:00:00', '2021-10-27 05:00:00',\n",
       "               '2021-10-27 06:00:00', '2021-10-27 07:00:00',\n",
       "               '2021-10-27 08:00:00', '2021-10-27 09:00:00',\n",
       "               '2021-10-27 10:00:00', '2021-10-27 11:00:00'],\n",
       "              dtype='datetime64[ns]', freq='H')"
      ]
     },
     "execution_count": 64,
     "metadata": {},
     "output_type": "execute_result"
    }
   ],
   "source": [
    "pd.date_range('2021-10-27',periods=12,freq='H')"
   ]
  }
 ],
 "metadata": {
  "kernelspec": {
   "display_name": "Python 3",
   "language": "python",
   "name": "python3"
  },
  "language_info": {
   "codemirror_mode": {
    "name": "ipython",
    "version": 3
   },
   "file_extension": ".py",
   "mimetype": "text/x-python",
   "name": "python",
   "nbconvert_exporter": "python",
   "pygments_lexer": "ipython3",
   "version": "3.8.8"
  }
 },
 "nbformat": 4,
 "nbformat_minor": 5
}

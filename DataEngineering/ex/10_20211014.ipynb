{
 "cells": [
  {
   "cell_type": "code",
   "execution_count": 6,
   "id": "1ffe36ca-2fb1-4d4a-a253-508042c38aaa",
   "metadata": {},
   "outputs": [
    {
     "data": {
      "text/plain": [
       "'1.2.4'"
      ]
     },
     "execution_count": 6,
     "metadata": {},
     "output_type": "execute_result"
    }
   ],
   "source": [
    "import pandas as pd\n",
    "import numpy as np\n",
    "\n",
    "pd.__version__"
   ]
  },
  {
   "cell_type": "code",
   "execution_count": 10,
   "id": "4a92d58f-8931-465d-893b-bf4983734dde",
   "metadata": {},
   "outputs": [
    {
     "name": "stdout",
     "output_type": "stream",
     "text": [
      "0    0.25\n",
      "1    0.50\n",
      "2    0.75\n",
      "3    1.00\n",
      "dtype: float64\n"
     ]
    }
   ],
   "source": [
    "\"\"\"\n",
    "    Pandas Object : Series    \n",
    "\"\"\"\n",
    "#Create a series from an array\n",
    "\n",
    "ser = pd.Series([0.25,0.5,0.75,1.0])# constructor method\n",
    "print(ser)"
   ]
  },
  {
   "cell_type": "code",
   "execution_count": 12,
   "id": "218e2932-3212-4f74-9963-3cd463c9826a",
   "metadata": {},
   "outputs": [
    {
     "name": "stdout",
     "output_type": "stream",
     "text": [
      "[0.25 0.5  0.75 1.  ]\n"
     ]
    }
   ],
   "source": [
    "# Two main\n",
    "arr = ser.values\n",
    "print(arr)"
   ]
  },
  {
   "cell_type": "code",
   "execution_count": 14,
   "id": "0c18dc82-684d-4a5c-8464-74971d096284",
   "metadata": {},
   "outputs": [
    {
     "name": "stdout",
     "output_type": "stream",
     "text": [
      "RangeIndex(start=0, stop=4, step=1)\n"
     ]
    }
   ],
   "source": [
    "ind = ser.index\n",
    "print(ind)"
   ]
  },
  {
   "cell_type": "code",
   "execution_count": 18,
   "id": "9903a52f-c311-48e9-9600-101c6f94759a",
   "metadata": {},
   "outputs": [
    {
     "name": "stdout",
     "output_type": "stream",
     "text": [
      "a    0.25\n",
      "b    0.50\n",
      "c    0.75\n",
      "d    1.00\n",
      "dtype: float64\n"
     ]
    }
   ],
   "source": [
    "ser = pd.Series([0.25,0.5,0.75,1.0], index=['a','b','c','d'])\n",
    "print(ser)"
   ]
  },
  {
   "cell_type": "code",
   "execution_count": 23,
   "id": "912592b1-8add-4826-b0fe-10d869d69c5f",
   "metadata": {},
   "outputs": [
    {
     "name": "stdout",
     "output_type": "stream",
     "text": [
      "0.25\n",
      "1.0\n"
     ]
    }
   ],
   "source": [
    "print(ser['a'])\n",
    "print(ser.d)"
   ]
  },
  {
   "cell_type": "code",
   "execution_count": 31,
   "id": "f50a82fe-0afb-4af9-87cc-dbaaeb3e2dfc",
   "metadata": {},
   "outputs": [
    {
     "name": "stdout",
     "output_type": "stream",
     "text": [
      "{'Cal': 363, 'Tex': 343, 'New': 342}\n",
      "Cal    363\n",
      "Tex    343\n",
      "dtype: int64\n"
     ]
    }
   ],
   "source": [
    "\"\"\"\n",
    "Create dictionary\n",
    "\"\"\"\n",
    "population_dict = {'Cal':363,\n",
    "                   'Tex':343,\n",
    "                   'New':342}\n",
    "population = pd.Series(population_dict)\n",
    "print(population_dict)\n",
    "\n",
    "print(population['Cal':'Tex'])"
   ]
  },
  {
   "cell_type": "code",
   "execution_count": 36,
   "id": "c092b2da-21d6-459e-b426-981699b58e53",
   "metadata": {},
   "outputs": [
    {
     "name": "stdout",
     "output_type": "stream",
     "text": [
      "     population  area\n",
      "Cal         363   363\n",
      "Tex         343   343\n",
      "New         342   342\n"
     ]
    }
   ],
   "source": [
    "area_dict = population_dict\n",
    "\n",
    "area = pd.Series(area_dict)\n",
    "states = pd.DataFrame({'population':population,'area':area})\n",
    "print(states)"
   ]
  },
  {
   "cell_type": "code",
   "execution_count": 41,
   "id": "2de37ac2-b678-45fa-97a0-6c818174f08d",
   "metadata": {},
   "outputs": [
    {
     "name": "stdout",
     "output_type": "stream",
     "text": [
      "Index(['Cal', 'Tex', 'New'], dtype='object')\n",
      "Index(['population', 'area'], dtype='object')\n"
     ]
    }
   ],
   "source": [
    "print(states.index)\n",
    "print(states.columns)"
   ]
  },
  {
   "cell_type": "code",
   "execution_count": 46,
   "id": "3f5540b0-27d7-4288-94d7-4d36d8664b53",
   "metadata": {},
   "outputs": [
    {
     "name": "stdout",
     "output_type": "stream",
     "text": [
      "Cal    363\n",
      "Tex    343\n",
      "New    342\n",
      "Name: area, dtype: int64\n"
     ]
    }
   ],
   "source": [
    "print(states['area'])"
   ]
  },
  {
   "cell_type": "code",
   "execution_count": 58,
   "id": "dee4b884-a69c-4a0e-9ffe-757c7ab84eb8",
   "metadata": {},
   "outputs": [
    {
     "name": "stdout",
     "output_type": "stream",
     "text": [
      "[[0.89286015 0.33197981]\n",
      " [0.82122912 0.04169663]\n",
      " [0.10765668 0.59505206]]\n",
      "        foo       bar\n",
      "a  0.892860  0.331980\n",
      "b  0.821229  0.041697\n",
      "c  0.107657  0.595052\n"
     ]
    }
   ],
   "source": [
    "np.random.seed(6)\n",
    "arr = np.random.rand(3,2)\n",
    "print(arr)\n",
    "\n",
    "a = pd.DataFrame(arr,columns=['foo','bar'], index=['a','b','c'])\n",
    "print(a)"
   ]
  },
  {
   "cell_type": "code",
   "execution_count": 63,
   "id": "3371679c-7a96-41b5-be85-d3c77405e4cc",
   "metadata": {},
   "outputs": [
    {
     "name": "stdout",
     "output_type": "stream",
     "text": [
      "0.5\n",
      "True\n",
      "False\n"
     ]
    }
   ],
   "source": [
    "print(ser['b'])\n",
    "print('a' in ser)\n",
    "print(0.25 in ser)"
   ]
  },
  {
   "cell_type": "code",
   "execution_count": 66,
   "id": "be224b2c-7122-4a23-9f71-6a3a19df474c",
   "metadata": {},
   "outputs": [
    {
     "name": "stdout",
     "output_type": "stream",
     "text": [
      "Index(['a', 'b', 'c', 'd', 'e'], dtype='object')\n",
      "a    0.125\n",
      "b    0.500\n",
      "c    0.750\n",
      "d    1.000\n",
      "e    1.250\n",
      "dtype: float64\n"
     ]
    }
   ],
   "source": [
    "print(ser.keys())\n",
    "ser['e'] = 1.25\n",
    "ser['a'] = 0.125\n",
    "print(ser)"
   ]
  },
  {
   "cell_type": "code",
   "execution_count": 69,
   "id": "63ebc08b-aad1-4c0b-a976-35747fe5c6c2",
   "metadata": {},
   "outputs": [
    {
     "name": "stdout",
     "output_type": "stream",
     "text": [
      "a    0.125\n",
      "b    0.500\n",
      "c    0.750\n",
      "dtype: float64\n",
      "b    0.50\n",
      "c    0.75\n",
      "dtype: float64\n",
      "a    0.125\n",
      "e    1.250\n",
      "dtype: float64\n"
     ]
    }
   ],
   "source": [
    "print(ser['a':'c'])\n",
    "print(ser[(ser>0.3)&(ser<0.8)])\n",
    "print(ser[['a','e']])"
   ]
  },
  {
   "cell_type": "code",
   "execution_count": 71,
   "id": "24e6e03c-8581-4f42-8a71-51ce4229f4ca",
   "metadata": {},
   "outputs": [
    {
     "name": "stdout",
     "output_type": "stream",
     "text": [
      "a    0.125\n",
      "b    0.500\n",
      "c    0.750\n",
      "dtype: float64\n",
      "a    0.125\n",
      "b    0.500\n",
      "dtype: float64\n"
     ]
    }
   ],
   "source": [
    "print(ser['a':'c'])\n",
    "print(ser[0:2])"
   ]
  },
  {
   "cell_type": "code",
   "execution_count": 73,
   "id": "87ff1010-112f-4e6d-85b2-bcad2adeeb5a",
   "metadata": {},
   "outputs": [
    {
     "name": "stdout",
     "output_type": "stream",
     "text": [
      "Cal    363\n",
      "Tex    343\n",
      "New    342\n",
      "Name: area, dtype: int64\n",
      "Cal    363\n",
      "Tex    343\n",
      "New    342\n",
      "Name: area, dtype: int64\n"
     ]
    }
   ],
   "source": [
    "print(states['area'])\n",
    "print(states.area)"
   ]
  },
  {
   "cell_type": "code",
   "execution_count": 75,
   "id": "5ca561b8-0002-4846-ba87-fccc41309a89",
   "metadata": {},
   "outputs": [
    {
     "name": "stdout",
     "output_type": "stream",
     "text": [
      "     population  area  density\n",
      "Cal         363   363      1.0\n",
      "Tex         343   343      1.0\n",
      "New         342   342      1.0\n"
     ]
    }
   ],
   "source": [
    "states['density'] = states['population']/states['area']\n",
    "print(states)"
   ]
  },
  {
   "cell_type": "code",
   "execution_count": 81,
   "id": "80d59eff-abda-4c2a-b056-0717aebcee43",
   "metadata": {},
   "outputs": [
    {
     "name": "stdout",
     "output_type": "stream",
     "text": [
      "0.125\n",
      "a    0.125\n",
      "b    0.500\n",
      "c    0.750\n",
      "dtype: float64\n",
      "0.5\n",
      "b    0.50\n",
      "c    0.75\n",
      "dtype: float64\n"
     ]
    }
   ],
   "source": [
    "print(ser.loc['a'])\n",
    "print(ser.loc['a':'c'])\n",
    "\n",
    "print(ser.iloc[1])\n",
    "print(ser.iloc[1:3])"
   ]
  },
  {
   "cell_type": "code",
   "execution_count": 84,
   "id": "d41224ea-e58b-42bd-8d37-f6bd1bf4a64c",
   "metadata": {},
   "outputs": [
    {
     "name": "stdout",
     "output_type": "stream",
     "text": [
      "     population  area  density\n",
      "Cal         363   363     90.0\n",
      "Tex         343   343      1.0\n",
      "New         342   342      1.0\n"
     ]
    }
   ],
   "source": [
    "states.iloc[0,2] = 90\n",
    "print(states)"
   ]
  }
 ],
 "metadata": {
  "kernelspec": {
   "display_name": "Python 3",
   "language": "python",
   "name": "python3"
  },
  "language_info": {
   "codemirror_mode": {
    "name": "ipython",
    "version": 3
   },
   "file_extension": ".py",
   "mimetype": "text/x-python",
   "name": "python",
   "nbconvert_exporter": "python",
   "pygments_lexer": "ipython3",
   "version": "3.8.8"
  }
 },
 "nbformat": 4,
 "nbformat_minor": 5
}

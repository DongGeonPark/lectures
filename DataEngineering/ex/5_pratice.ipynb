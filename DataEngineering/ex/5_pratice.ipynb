{
 "cells": [
  {
   "cell_type": "code",
   "execution_count": 16,
   "id": "e844c826-c529-4732-a743-e84c075be860",
   "metadata": {},
   "outputs": [
    {
     "name": "stdout",
     "output_type": "stream",
     "text": [
      "[1 2 3 4 5 6]\n",
      "[1 2 3 4 5 6]\n"
     ]
    }
   ],
   "source": [
    "import numpy as np\n",
    "\n",
    "\"\"\"\n",
    "Creating a Numpy\n",
    "\"\"\"\n",
    "my_list = [1,2,3,4,5,6]\n",
    "my_array = np.array(my_list)\n",
    "print(my_array)\n",
    "my_arr = np.array([1,2,3,4,5,6])\n",
    "print(my_arr)"
   ]
  },
  {
   "cell_type": "code",
   "execution_count": 17,
   "id": "1df73e91-cefd-46bf-84b2-1bc640cb4b7e",
   "metadata": {},
   "outputs": [
    {
     "name": "stdout",
     "output_type": "stream",
     "text": [
      "[25, 20, 35, 15, 15, 30, 45, 30]\n",
      "[25 20 35 15 15 30 45 30]\n"
     ]
    }
   ],
   "source": [
    "\"\"\"\n",
    "Operations with Numpy Arrays\n",
    "\"\"\"\n",
    "prices = [30,25,40,20,20,35,50,35]\n",
    "new_prices = [price-5 for price in prices]\n",
    "print(new_prices)\n",
    "\n",
    "prices_arr = np.array(prices)\n",
    "prices_arr -= 5\n",
    "print(prices_arr)"
   ]
  },
  {
   "cell_type": "code",
   "execution_count": 19,
   "id": "bfeb52b4-f26e-4df5-a132-8d8cb357e343",
   "metadata": {},
   "outputs": [
    {
     "name": "stdout",
     "output_type": "stream",
     "text": [
      "[260 281 248 276 272]\n",
      "[86.66666667 93.66666667 82.66666667 92.         90.66666667]\n"
     ]
    }
   ],
   "source": [
    "\"\"\"\n",
    "Operation with Test Scores\n",
    "\"\"\"\n",
    "import math\n",
    "#1\n",
    "test_1 = np.array([92,94,88,91,87])\n",
    "test_2 = np.array([79,100,86,93,91])\n",
    "test_3 = np.array([87,85,72,90,92])\n",
    "\n",
    "#2\n",
    "test_3_fixed = test_3 + 2\n",
    "\n",
    "#3\n",
    "total_grade = test_1 + test_2 + test_3_fixed\n",
    "print(total_grade)\n",
    "\n",
    "final_grade = total_grade/3\n",
    "print(final_grade)"
   ]
  },
  {
   "cell_type": "code",
   "execution_count": 35,
   "id": "dfef71c5-ec0b-4f9e-a7b7-ff18ea3dbc20",
   "metadata": {},
   "outputs": [
    {
     "name": "stdout",
     "output_type": "stream",
     "text": [
      "Tanya: 87\n",
      "Cody: [87 91 92]\n"
     ]
    }
   ],
   "source": [
    "#4\n",
    "jermy_test_2 = test_2[3]\n",
    "manual_adwoa_test_1 = [test_1[1],test_1[2]]\n",
    "\n",
    "#5\n",
    "student_scores = np.array([test_1,test_2,test_3])\n",
    "print(\"Tanya:\", arr[2,0])\n",
    "print(\"Cody:\",arr[:3,4])"
   ]
  },
  {
   "cell_type": "code",
   "execution_count": 42,
   "id": "b07d7b87-9d4e-4c45-9bcd-d09799a7e374",
   "metadata": {},
   "outputs": [
    {
     "name": "stdout",
     "output_type": "stream",
     "text": [
      "[False False False False False  True  True  True  True  True]\n",
      "[ 6  7  8  9 10]\n",
      "[ 1  2  6  7  8  9 10]\n"
     ]
    }
   ],
   "source": [
    "\"\"\"\n",
    "Logical Operations with Arrays\n",
    "\"\"\"\n",
    "a = np.array([1,2,3,4,5,6,7,8,9,10])\n",
    "mask = a>5\n",
    "print(mask)\n",
    "\n",
    "selected = a[a>5]\n",
    "print(selected)\n",
    "\n",
    "selected = a[(a>5)|(a<3)]\n",
    "print(selected)"
   ]
  },
  {
   "cell_type": "code",
   "execution_count": 44,
   "id": "6ea6e905-cef3-428b-a249-5ada6ec29983",
   "metadata": {},
   "outputs": [
    {
     "name": "stdout",
     "output_type": "stream",
     "text": [
      "[50 56 51]\n",
      "[90 85 98]\n",
      "[79 65 63 79]\n"
     ]
    }
   ],
   "source": [
    "\"\"\"\n",
    "Goldilocks Porridge Festival\n",
    "\"\"\"\n",
    "import numpy as np\n",
    "porridge = np.array([79, 65, 50, 63, 56, 90, 85, 98, 79, 51])\n",
    "\n",
    "cold = porridge[porridge < 60]\n",
    "print(cold)\n",
    "hot = porridge[porridge > 80]\n",
    "print(hot)\n",
    "just_right = porridge[(porridge > 60) & (porridge < 80)]\n",
    "print(just_right)"
   ]
  }
 ],
 "metadata": {
  "kernelspec": {
   "display_name": "Python 3",
   "language": "python",
   "name": "python3"
  },
  "language_info": {
   "codemirror_mode": {
    "name": "ipython",
    "version": 3
   },
   "file_extension": ".py",
   "mimetype": "text/x-python",
   "name": "python",
   "nbconvert_exporter": "python",
   "pygments_lexer": "ipython3",
   "version": "3.8.8"
  }
 },
 "nbformat": 4,
 "nbformat_minor": 5
}

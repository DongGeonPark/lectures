{
 "cells": [
  {
   "cell_type": "code",
   "execution_count": 2,
   "id": "3e00e3ce-27cd-4cce-8ca2-c42e84cb0aa2",
   "metadata": {},
   "outputs": [
    {
     "name": "stdout",
     "output_type": "stream",
     "text": [
      "<class 'bool'>\n"
     ]
    }
   ],
   "source": [
    "is_tested = True\n",
    "is_passed = False\n",
    "print(type(is_tested))"
   ]
  },
  {
   "cell_type": "code",
   "execution_count": 4,
   "id": "cedecc3e-4c9a-4969-ae14-576636abb803",
   "metadata": {},
   "outputs": [
    {
     "name": "stdout",
     "output_type": "stream",
     "text": [
      "True\n",
      "True\n",
      "False\n"
     ]
    }
   ],
   "source": [
    "print(\"Yes\" == \"Yes\")\n",
    "print((2>1)==(5<10))\n",
    "c = '2'\n",
    "d = 2\n",
    "print(c==d)"
   ]
  },
  {
   "cell_type": "code",
   "execution_count": 8,
   "id": "23c49766-a978-49cb-a000-b56c2d51c0fd",
   "metadata": {},
   "outputs": [
    {
     "name": "stdout",
     "output_type": "stream",
     "text": [
      "True\n",
      "True\n",
      "True\n"
     ]
    }
   ],
   "source": [
    "print(\"Yes\" != \"No\")\n",
    "print(10 != 20)\n",
    "print((10>1) != (10>1000))"
   ]
  },
  {
   "cell_type": "code",
   "execution_count": 15,
   "id": "8b2ea264-e822-4432-809f-673af35f2812",
   "metadata": {},
   "outputs": [
    {
     "name": "stdout",
     "output_type": "stream",
     "text": [
      "True\n"
     ]
    }
   ],
   "source": [
    "puppy = \"maltese\"\n",
    "is_yes = False\n",
    "if puppy == \"maltese\":\n",
    "    is_yes =True\n",
    "elif puppy == \"poodle\":\n",
    "    is_yes = True\n",
    "elif puppy == \"shihtzu\":\n",
    "    is_yes = True\n",
    "print(is_yes)"
   ]
  },
  {
   "cell_type": "code",
   "execution_count": 26,
   "id": "1e088b5c-ec33-4581-b82c-c0b3676438ed",
   "metadata": {},
   "outputs": [
    {
     "name": "stdout",
     "output_type": "stream",
     "text": [
      "[1, 2, 3, 4]\n",
      "[3, 2, 3, 4]\n",
      "[1, 2, 3, 4, 5, 6, 7]\n"
     ]
    }
   ],
   "source": [
    "list_ex = [1,2,3,4,5,6,7]\n",
    "list_ex_2 = list_ex[0:4]\n",
    "print(list_ex_2)\n",
    "list_ex_2[0] = 3\n",
    "print(list_ex_2)\n",
    "print(list_ex)"
   ]
  },
  {
   "cell_type": "code",
   "execution_count": 44,
   "id": "528ad9d6-65f0-4eae-9ea4-82b9290ce917",
   "metadata": {},
   "outputs": [
    {
     "name": "stdout",
     "output_type": "stream",
     "text": [
      "[[1, 2], [3, 4], [5, 6]]\n",
      "2\n",
      "0\n"
     ]
    }
   ],
   "source": [
    "sublist_index=[[1,2],[3,4],[5,6]]\n",
    "print(sublist_index)\n",
    "print(sublist_index[0][1])\n",
    "print(sublist_index.count([1,3]))"
   ]
  },
  {
   "cell_type": "code",
   "execution_count": 53,
   "id": "89860d7e-668c-4136-96b4-f9879e970389",
   "metadata": {},
   "outputs": [
    {
     "name": "stdout",
     "output_type": "stream",
     "text": [
      "[[1, 2], [9, 10], [9, 10], [9, 10], [9, 10], [9, 10], [3, 4], [5, 6], [7, 8], [7, 8], [7, 8], [7, 8], [7, 8], [7, 8], [7, 8], [7, 8]]\n",
      "[[1, 2], [9, 10], [9, 10], [9, 10], [9, 10], [9, 10], [9, 10], [3, 4], [5, 6], [7, 8], [7, 8], [7, 8], [7, 8], [7, 8], [7, 8], [7, 8], [7, 8]]\n",
      "[6, 5, 4, 3, 2, 1]\n",
      "[1, 2, 3, 4, 5, 6]\n"
     ]
    }
   ],
   "source": [
    "sublist_index.append([7,8])\n",
    "print(sublist_index)\n",
    "sublist_index.insert(1,[9,10])\n",
    "print(sublist_index)\n",
    "tolist = [6,5,4,3,2,1]\n",
    "\n",
    "print(tolist)\n",
    "totolist = sorted(tolist)\n",
    "print(totolist)"
   ]
  },
  {
   "cell_type": "code",
   "execution_count": 55,
   "id": "1b2fde66-d8f9-494e-9de8-5bec5e9ac7d9",
   "metadata": {},
   "outputs": [
    {
     "name": "stdout",
     "output_type": "stream",
     "text": [
      "1\n",
      "2\n",
      "3\n",
      "4\n",
      "5\n"
     ]
    }
   ],
   "source": [
    "nums = [1,2,3,4,5]\n",
    "for num in nums:\n",
    "    print(num)"
   ]
  },
  {
   "cell_type": "code",
   "execution_count": 57,
   "id": "a90683f2-8b81-4a44-b7b1-804b7ae21ac3",
   "metadata": {},
   "outputs": [
    {
     "name": "stdout",
     "output_type": "stream",
     "text": [
      "0\n",
      "1\n",
      "2\n",
      "3\n"
     ]
    }
   ],
   "source": [
    "for i in range(4):\n",
    "    print(i)"
   ]
  },
  {
   "cell_type": "code",
   "execution_count": 59,
   "id": "04bf03f3-23d5-457d-b9ea-d6c36b6bb22c",
   "metadata": {},
   "outputs": [
    {
     "name": "stdout",
     "output_type": "stream",
     "text": [
      "Warning!\n",
      "Warning!\n",
      "Warning!\n",
      "Warning!\n"
     ]
    }
   ],
   "source": [
    "for i in range(4):\n",
    "    print(\"Warning!\")"
   ]
  },
  {
   "cell_type": "code",
   "execution_count": 61,
   "id": "d14d4ab7-0553-451d-add4-90b3fa28d4e1",
   "metadata": {},
   "outputs": [
    {
     "name": "stdout",
     "output_type": "stream",
     "text": [
      "1\n",
      "2\n",
      "3\n",
      "4\n",
      "5\n"
     ]
    }
   ],
   "source": [
    "for num in nums:\n",
    "    if num<0:\n",
    "        continue\n",
    "    print(num)"
   ]
  },
  {
   "cell_type": "code",
   "execution_count": 64,
   "id": "dc886516-d831-4387-be08-45cf38b32128",
   "metadata": {},
   "outputs": [
    {
     "name": "stdout",
     "output_type": "stream",
     "text": [
      "stage1is complete.\n",
      "Game is over...\n"
     ]
    }
   ],
   "source": [
    "game_plays = ['stage1','gameover','stage3','stage4','stage5','stage6']\n",
    "for play in game_plays:\n",
    "    if play == 'gameover':\n",
    "        print(\"Game is over...\")\n",
    "        break\n",
    "    print(play + \"is complete.\")"
   ]
  },
  {
   "cell_type": "code",
   "execution_count": 66,
   "id": "96de3a1f-38c0-4bcb-929b-e57d3dface1b",
   "metadata": {},
   "outputs": [
    {
     "name": "stdout",
     "output_type": "stream",
     "text": [
      "[1, 2, 3, 4, 5, 6, 7, 8, 9, 10]\n"
     ]
    }
   ],
   "source": [
    "one_to_ten = [i+1 for i in range(10)]\n",
    "print(one_to_ten)"
   ]
  },
  {
   "cell_type": "code",
   "execution_count": 68,
   "id": "068590c6-e1d9-4a77-86f9-157a534f0892",
   "metadata": {},
   "outputs": [
    {
     "name": "stdout",
     "output_type": "stream",
     "text": [
      "혼날 사람:\n",
      "['해리케인', '은돔벨레']\n"
     ]
    }
   ],
   "source": [
    "hotspurs = [['손흥민', 'A+'],['해리케인','F'],['은돔벨레','F']]\n",
    "poors = [player[0] for player in hotspurs if player[1] ==  'F']\n",
    "print(\"혼날 사람:\")\n",
    "print(poors)"
   ]
  },
  {
   "cell_type": "code",
   "execution_count": 70,
   "id": "ee9cbc63-dd0d-4216-889f-c3d76e008077",
   "metadata": {},
   "outputs": [
    {
     "name": "stdout",
     "output_type": "stream",
     "text": [
      "1 X 1 = 1\n",
      "1 X 2 = 2\n",
      "1 X 3 = 3\n",
      "1 X 4 = 4\n",
      "1 X 5 = 5\n",
      "1 X 6 = 6\n",
      "1 X 7 = 7\n",
      "1 X 8 = 8\n",
      "1 X 9 = 9\n",
      "2 X 1 = 2\n",
      "2 X 2 = 4\n",
      "2 X 3 = 6\n",
      "2 X 4 = 8\n",
      "2 X 5 = 10\n",
      "2 X 6 = 12\n",
      "2 X 7 = 14\n",
      "2 X 8 = 16\n",
      "2 X 9 = 18\n",
      "3 X 1 = 3\n",
      "3 X 2 = 6\n",
      "3 X 3 = 9\n",
      "3 X 4 = 12\n",
      "3 X 5 = 15\n",
      "3 X 6 = 18\n",
      "3 X 7 = 21\n",
      "3 X 8 = 24\n",
      "3 X 9 = 27\n",
      "4 X 1 = 4\n",
      "4 X 2 = 8\n",
      "4 X 3 = 12\n",
      "4 X 4 = 16\n",
      "4 X 5 = 20\n",
      "4 X 6 = 24\n",
      "4 X 7 = 28\n",
      "4 X 8 = 32\n",
      "4 X 9 = 36\n",
      "5 X 1 = 5\n",
      "5 X 2 = 10\n",
      "5 X 3 = 15\n",
      "5 X 4 = 20\n",
      "5 X 5 = 25\n",
      "5 X 6 = 30\n",
      "5 X 7 = 35\n",
      "5 X 8 = 40\n",
      "5 X 9 = 45\n",
      "6 X 1 = 6\n",
      "6 X 2 = 12\n",
      "6 X 3 = 18\n",
      "6 X 4 = 24\n",
      "6 X 5 = 30\n",
      "6 X 6 = 36\n",
      "6 X 7 = 42\n",
      "6 X 8 = 48\n",
      "6 X 9 = 54\n",
      "7 X 1 = 7\n",
      "7 X 2 = 14\n",
      "7 X 3 = 21\n",
      "7 X 4 = 28\n",
      "7 X 5 = 35\n",
      "7 X 6 = 42\n",
      "7 X 7 = 49\n",
      "7 X 8 = 56\n",
      "7 X 9 = 63\n",
      "8 X 1 = 8\n",
      "8 X 2 = 16\n",
      "8 X 3 = 24\n",
      "8 X 4 = 32\n",
      "8 X 5 = 40\n",
      "8 X 6 = 48\n",
      "8 X 7 = 56\n",
      "8 X 8 = 64\n",
      "8 X 9 = 72\n",
      "9 X 1 = 9\n",
      "9 X 2 = 18\n",
      "9 X 3 = 27\n",
      "9 X 4 = 36\n",
      "9 X 5 = 45\n",
      "9 X 6 = 54\n",
      "9 X 7 = 63\n",
      "9 X 8 = 72\n",
      "9 X 9 = 81\n"
     ]
    }
   ],
   "source": [
    "one_to_nine = [i+1 for i in range(9)]\n",
    "for i in one_to_nine:\n",
    "    for j in one_to_nine:\n",
    "        print(\"%d X %d = %d\" %(i,j,i*j))"
   ]
  },
  {
   "cell_type": "code",
   "execution_count": 73,
   "id": "8e1086f4-f6c1-4d53-9a48-bab53b843142",
   "metadata": {},
   "outputs": [
    {
     "name": "stdout",
     "output_type": "stream",
     "text": [
      "a냠냠\n",
      "b냠냠\n",
      "c냠냠\n",
      "d냠냠\n",
      "gg..\n"
     ]
    }
   ],
   "source": [
    "hungry = True\n",
    "foods_on_table = ['a','b','c','d','e']\n",
    "foods_num = 7\n",
    "ate_num = 0\n",
    "\n",
    "while ate_num <4:\n",
    "    print(foods_on_table[ate_num]+\"냠냠\")\n",
    "    ate_num +=1\n",
    "print(\"gg..\")"
   ]
  },
  {
   "cell_type": "code",
   "execution_count": 76,
   "id": "0ad64540-f6eb-4404-ba2a-a20a2a91902c",
   "metadata": {},
   "outputs": [
    {
     "name": "stdout",
     "output_type": "stream",
     "text": [
      "Do\n",
      "Do\n",
      "Do\n",
      "Do\n",
      "Do\n",
      "why\n",
      "Do\n",
      "why\n",
      "Do\n",
      "why\n",
      "Do\n",
      "why\n",
      "Do\n",
      "why\n"
     ]
    }
   ],
   "source": [
    "x = 1\n",
    "y = 1\n",
    "while x<10:\n",
    "    print(\"Do\")\n",
    "    x+=1\n",
    "    y+=1\n",
    "    if y>5:\n",
    "        print(\"why\")"
   ]
  },
  {
   "cell_type": "code",
   "execution_count": 79,
   "id": "5ef851a7-e0d7-40ed-aef4-3f3631856b7e",
   "metadata": {},
   "outputs": [
    {
     "name": "stdout",
     "output_type": "stream",
     "text": [
      "10.0\n"
     ]
    }
   ],
   "source": [
    "def fahr_to_celsius(temp):\n",
    "    return ((temp - 32) *(5/9))\n",
    "\n",
    "print(fahr_to_celsius(50))"
   ]
  },
  {
   "cell_type": "code",
   "execution_count": 81,
   "id": "e82d9dca-56f4-428c-aeca-9b7f7eedc527",
   "metadata": {},
   "outputs": [
    {
     "name": "stdout",
     "output_type": "stream",
     "text": [
      "2\n",
      "2\n"
     ]
    }
   ],
   "source": [
    "# Define a function\n",
    "def my_function(x):\n",
    "    return x + 1\n",
    "\n",
    "print(my_function(1))\n",
    "# invoke the function\n",
    "x = 1\n",
    "print(my_function(x))\n",
    "# invoke the function"
   ]
  },
  {
   "cell_type": "code",
   "execution_count": 85,
   "id": "b532c1b9-d890-48d7-93b8-5abb9042a5a4",
   "metadata": {},
   "outputs": [
    {
     "name": "stdout",
     "output_type": "stream",
     "text": [
      "3\n"
     ]
    }
   ],
   "source": [
    "# Define a class\n",
    "class my_class:\n",
    "    def my_method(self):\n",
    "        return x + 1\n",
    "    \n",
    "cls = my_class()\n",
    "# create an instance\n",
    "\n",
    "x = 2\n",
    "print(cls.my_method())\n",
    "# invoke the method"
   ]
  },
  {
   "cell_type": "code",
   "execution_count": 87,
   "id": "9f744b64-16d1-421c-b892-4bc2429c2fb9",
   "metadata": {},
   "outputs": [
    {
     "name": "stdout",
     "output_type": "stream",
     "text": [
      "Hello everyone, my name is Hyun Ahn, I was born in 1985, and I live in Anyang.\n"
     ]
    }
   ],
   "source": [
    "def introduce_myself(name, birthyear, city):\n",
    "    print(\"Hello everyone, my name is %s, I was born in %d, and I live in %s.\" % (name, birthyear, city))\n",
    "\n",
    "introduce_myself(\"Hyun Ahn\", 1985, \"Anyang\")"
   ]
  },
  {
   "cell_type": "code",
   "execution_count": 90,
   "id": "eda2b56e-48ce-4899-9816-3891fecc72b1",
   "metadata": {},
   "outputs": [
    {
     "name": "stdout",
     "output_type": "stream",
     "text": [
      "[1 2 3 4 5]\n"
     ]
    }
   ],
   "source": [
    "import numpy as np\n",
    "my_list = [1,2,3,4,5]\n",
    "my_array = np.array(my_list)\n",
    "print(my_array)"
   ]
  },
  {
   "cell_type": "code",
   "execution_count": 92,
   "id": "7847accb-cf73-409d-b07b-1b8bc8150a42",
   "metadata": {},
   "outputs": [
    {
     "name": "stdout",
     "output_type": "stream",
     "text": [
      "[25, 20, 35, 15, 15, 30, 45, 30]\n"
     ]
    }
   ],
   "source": [
    "prices = [30, 25, 40, 20, 20, 35, 50, 35]\n",
    "new_prices = [price-5 for price in prices]\n",
    "print(new_prices)"
   ]
  },
  {
   "cell_type": "code",
   "execution_count": 94,
   "id": "ce36962a-5f6c-4076-acd0-7e0bb9a5f772",
   "metadata": {},
   "outputs": [
    {
     "name": "stdout",
     "output_type": "stream",
     "text": [
      "[25 20 35 15 15 30 45 30]\n"
     ]
    }
   ],
   "source": [
    "prices_arr = np.array(prices)\n",
    "prices_arr -= 5\n",
    "print(prices_arr)"
   ]
  },
  {
   "cell_type": "code",
   "execution_count": 96,
   "id": "84f78a8d-6ed9-4459-b40a-44b4c488f0c0",
   "metadata": {},
   "outputs": [
    {
     "name": "stdout",
     "output_type": "stream",
     "text": [
      "[10  9  8  9  7]\n"
     ]
    }
   ],
   "source": [
    "a = np.array([10, 2, 2, 4, 5, 3, 9, 8, 9, 7])\n",
    "selected = a[a > 5]\n",
    "print(selected)"
   ]
  },
  {
   "cell_type": "code",
   "execution_count": 99,
   "id": "221f58a3-b00b-4632-89a9-d8d2b1635e43",
   "metadata": {},
   "outputs": [
    {
     "name": "stdout",
     "output_type": "stream",
     "text": [
      "[10  2  2  9  8  9  7]\n"
     ]
    }
   ],
   "source": [
    "selected = a[(a > 5) | (a < 3)]\n",
    "print(selected)"
   ]
  },
  {
   "cell_type": "code",
   "execution_count": 102,
   "id": "6853dfa6-e3c0-4473-8558-cd6c8aae770c",
   "metadata": {},
   "outputs": [
    {
     "name": "stdout",
     "output_type": "stream",
     "text": [
      "[0 1 2 3]\n"
     ]
    }
   ],
   "source": [
    "x = np.arange(4)\n",
    "print(x)"
   ]
  }
 ],
 "metadata": {
  "kernelspec": {
   "display_name": "Python 3",
   "language": "python",
   "name": "python3"
  },
  "language_info": {
   "codemirror_mode": {
    "name": "ipython",
    "version": 3
   },
   "file_extension": ".py",
   "mimetype": "text/x-python",
   "name": "python",
   "nbconvert_exporter": "python",
   "pygments_lexer": "ipython3",
   "version": "3.8.8"
  }
 },
 "nbformat": 4,
 "nbformat_minor": 5
}

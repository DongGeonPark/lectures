{
 "cells": [
  {
   "cell_type": "code",
   "execution_count": 48,
   "id": "91736d15-218e-4ac1-adf3-c4815b5268e7",
   "metadata": {},
   "outputs": [
    {
     "name": "stdout",
     "output_type": "stream",
     "text": [
      "[1 3 5 7 9]\n"
     ]
    }
   ],
   "source": [
    "\"\"\"\n",
    "Creating an array\n",
    "\"\"\"\n",
    "import numpy as np\n",
    "\n",
    "a = np.arange(1,10,2)\n",
    "print(a)"
   ]
  },
  {
   "cell_type": "code",
   "execution_count": 49,
   "id": "c4811306-0aa9-48d4-86f5-9dbff2db7724",
   "metadata": {},
   "outputs": [
    {
     "name": "stdout",
     "output_type": "stream",
     "text": [
      "[[[9 4 0 1 9]\n",
      "  [0 1 8 9 0]\n",
      "  [8 6 4 3 0]\n",
      "  [4 6 8 1 8]]\n",
      "\n",
      " [[4 1 3 6 5]\n",
      "  [3 9 6 9 1]\n",
      "  [9 4 2 6 7]\n",
      "  [8 8 9 2 0]]\n",
      "\n",
      " [[6 7 8 1 7]\n",
      "  [1 4 0 8 5]\n",
      "  [4 7 8 8 2]\n",
      "  [6 2 8 8 6]]]\n"
     ]
    }
   ],
   "source": [
    "\"\"\"\n",
    "Random array\n",
    "\"\"\"\n",
    "\n",
    "np.random.seed(10)\n",
    "b = np.random.randint(10,size=(3,4,5))\n",
    "print(b)"
   ]
  },
  {
   "cell_type": "code",
   "execution_count": 50,
   "id": "9c927a4b-297a-4bf0-a937-754840e52d75",
   "metadata": {},
   "outputs": [
    {
     "name": "stdout",
     "output_type": "stream",
     "text": [
      "3\n",
      "(3, 4, 5)\n",
      "60\n",
      "int32\n",
      "4\n",
      "240\n"
     ]
    }
   ],
   "source": [
    "\"\"\"\n",
    "NumPy Array Attributes\n",
    "\"\"\"\n",
    "print(b.ndim)\n",
    "print(b.shape)\n",
    "print(b.size)\n",
    "print(b.dtype)\n",
    "print(b.itemsize)\n",
    "print(b.nbytes)"
   ]
  },
  {
   "cell_type": "code",
   "execution_count": 51,
   "id": "34ae1005-7abe-47c3-8fb4-dd444be5dfeb",
   "metadata": {},
   "outputs": [
    {
     "name": "stdout",
     "output_type": "stream",
     "text": [
      "[[5 8 9 5]\n",
      " [0 0 1 7]]\n",
      "[[5 8]\n",
      " [0 0]]\n",
      "[[16  8]\n",
      " [ 0  0]]\n",
      "[[16  8  9  5]\n",
      " [ 0  0  1  7]]\n"
     ]
    }
   ],
   "source": [
    "\"\"\"\n",
    "Views\n",
    "\"\"\"\n",
    "np.random.seed(1)\n",
    "arr = np.random.randint(10,size=(2,4))\n",
    "print(arr)\n",
    "arr_sub = arr[:2,:2]\n",
    "print (arr_sub)\n",
    "arr_sub[0,0] = 16\n",
    "print (arr_sub)\n",
    "print(arr)"
   ]
  },
  {
   "cell_type": "code",
   "execution_count": 85,
   "id": "f963e789-d6e4-48bd-a149-2ea57f91d7bf",
   "metadata": {},
   "outputs": [
    {
     "name": "stdout",
     "output_type": "stream",
     "text": [
      "[0 1 2 3 4 5 6 7 8 9]\n",
      "[3 4 5 6]\n",
      "[0 1 2 3 4]\n",
      "[5 6 7 8 9]\n",
      "[0 3 6 9]\n",
      "[2 4 6]\n"
     ]
    }
   ],
   "source": [
    "\"\"\"\n",
    "Array Slicing\n",
    "\"\"\"\n",
    "arr = np.arange(10)\n",
    "print(arr)\n",
    "print(arr[3:7])\n",
    "print(arr[:5])\n",
    "print(arr[5:])\n",
    "print(arr[::3])\n",
    "print(arr[2:8:2])\n"
   ]
  },
  {
   "cell_type": "code",
   "execution_count": 89,
   "id": "e5ca4de2-2624-4cc3-810e-bf943bd7721d",
   "metadata": {},
   "outputs": [
    {
     "name": "stdout",
     "output_type": "stream",
     "text": [
      "[[0 1 2 3 4 5 6 7 8 9]]\n",
      "[[0 1]]\n",
      "[[1 1]]\n",
      "[0 1 2 3 4 5 6 7 8 9]\n",
      "[[0 1]\n",
      " [2 3]\n",
      " [4 5]\n",
      " [6 7]\n",
      " [8 9]]\n"
     ]
    }
   ],
   "source": [
    "arr_2 = arr[np.newaxis, :]\n",
    "print(arr_2)\n",
    "arr_sub = arr_2[:2,:2].copy()\n",
    "print (arr_sub)\n",
    "arr_sub[0][0] = 1\n",
    "print(arr_sub)\n",
    "print(arr)\n",
    "arr_a = arr_2.reshape(5,2)\n",
    "print(arr_a)"
   ]
  },
  {
   "cell_type": "code",
   "execution_count": 90,
   "id": "538dc741-a1f6-469f-aa8f-5e3f878818f6",
   "metadata": {},
   "outputs": [
    {
     "name": "stdout",
     "output_type": "stream",
     "text": [
      "[1 2 3]\n",
      "1\n",
      "(3,)\n",
      "[[1 2 3]]\n",
      "2\n",
      "(1, 3)\n"
     ]
    }
   ],
   "source": [
    "arr = np.array([1,2,3])\n",
    "print(arr)\n",
    "print(arr.ndim)\n",
    "print(arr.shape)\n",
    "\n",
    "arr_new = arr[np.newaxis, :]\n",
    "print(arr_new)\n",
    "print(arr_new.ndim)\n",
    "print(arr_new.shape)"
   ]
  },
  {
   "cell_type": "code",
   "execution_count": 91,
   "id": "b912f277-f233-4542-80b3-1ef6e898d3e6",
   "metadata": {},
   "outputs": [
    {
     "name": "stdout",
     "output_type": "stream",
     "text": [
      "[[1]\n",
      " [2]\n",
      " [3]]\n",
      "2\n",
      "(3, 1)\n"
     ]
    }
   ],
   "source": [
    "arr_new = arr[:, np.newaxis]\n",
    "print(arr_new)\n",
    "print(arr_new.ndim)\n",
    "print(arr_new.shape)"
   ]
  },
  {
   "cell_type": "code",
   "execution_count": 96,
   "id": "2867669a-78e2-45f2-b229-30d46773318c",
   "metadata": {},
   "outputs": [
    {
     "name": "stdout",
     "output_type": "stream",
     "text": [
      "[1 2 3 4 5 6 7 8 9]\n",
      "[[1 2 3]\n",
      " [4 5 6]\n",
      " [7 8 9]]\n"
     ]
    }
   ],
   "source": [
    "arr_1 = np.array([1,2,3])\n",
    "arr_2 = np.array([4,5,6])\n",
    "arr_3 = np.array([7,8,9])\n",
    "arr_total = np.concatenate([arr_1, arr_2, arr_3])\n",
    "print(arr_total)\n",
    "arr_total = np.vstack([arr_1, arr_2, arr_3])\n",
    "print(arr_total)"
   ]
  },
  {
   "cell_type": "code",
   "execution_count": 100,
   "id": "e620e88a-af4b-41ca-af18-c98dd45343fc",
   "metadata": {},
   "outputs": [
    {
     "name": "stdout",
     "output_type": "stream",
     "text": [
      "[0 1 2]\n",
      "[3 4]\n",
      "[5 6 7 8 9]\n"
     ]
    }
   ],
   "source": [
    "arr_4 = np.arange(10)\n",
    "arr_1, arr_2, arr_3 = np.split(arr_4, [3, 5])\n",
    "print(arr_1)\n",
    "print(arr_2)\n",
    "print(arr_3)"
   ]
  }
 ],
 "metadata": {
  "kernelspec": {
   "display_name": "Python 3",
   "language": "python",
   "name": "python3"
  },
  "language_info": {
   "codemirror_mode": {
    "name": "ipython",
    "version": 3
   },
   "file_extension": ".py",
   "mimetype": "text/x-python",
   "name": "python",
   "nbconvert_exporter": "python",
   "pygments_lexer": "ipython3",
   "version": "3.8.8"
  }
 },
 "nbformat": 4,
 "nbformat_minor": 5
}

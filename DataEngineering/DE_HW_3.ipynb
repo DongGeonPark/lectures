{
 "cells": [
  {
   "cell_type": "code",
   "execution_count": 28,
   "id": "51cb9380-0d0a-40d4-bd56-7eb50215a4b5",
   "metadata": {},
   "outputs": [],
   "source": [
    "#1\n",
    "hairstyles = [\"bouffant\", \"pixie\", \"dreadlocks\", \"crew\", \"bowl\", \"bob\", \"mohawk\", \"flattop\"]\n",
    "prices = [30, 25, 40, 20, 20, 35, 50, 35]\n",
    "last_week = [2, 3, 5, 8, 4, 4, 6, 2]"
   ]
  },
  {
   "cell_type": "code",
   "execution_count": 29,
   "id": "e61e7a95-d796-44f1-be1a-2bdb00f5073a",
   "metadata": {},
   "outputs": [
    {
     "name": "stdout",
     "output_type": "stream",
     "text": [
      "Average price is 31.875\n"
     ]
    }
   ],
   "source": [
    "#2\n",
    "total_price = 0\n",
    "for price in prices:\n",
    "    total_price += price\n",
    "    \n",
    "average_price = total_price/len(prices)\n",
    "print(\"Average price is\",average_price)"
   ]
  },
  {
   "cell_type": "code",
   "execution_count": 30,
   "id": "7cdc957a-2bb5-48e4-b9c0-ef1d3b9f2e16",
   "metadata": {},
   "outputs": [
    {
     "name": "stdout",
     "output_type": "stream",
     "text": [
      "[25, 20, 35, 15, 15, 30, 45, 30]\n"
     ]
    }
   ],
   "source": [
    "#3\n",
    "new_prices =[price-5 for price in prices]\n",
    "print(new_prices)"
   ]
  },
  {
   "cell_type": "code",
   "execution_count": 31,
   "id": "eb3a7f01-b7ad-43c0-9360-a44c391d3381",
   "metadata": {},
   "outputs": [
    {
     "name": "stdout",
     "output_type": "stream",
     "text": [
      "total_revenue: 1085\n",
      "Average daily revenue is 155.0\n"
     ]
    }
   ],
   "source": [
    "#4\n",
    "total_revenue = 0\n",
    "for i in range(len(hairstyles)):\n",
    "    total_revenue += prices[i]*last_week[i]\n",
    "print(\"total_revenue:\",total_revenue)\n",
    "\n",
    "average_daily_revenue = total_revenue/7\n",
    "print(\"Average daily revenue is\",average_daily_revenue)"
   ]
  },
  {
   "cell_type": "code",
   "execution_count": 32,
   "id": "1181c7de-791b-4267-8eb9-9ebc135c4da3",
   "metadata": {},
   "outputs": [
    {
     "name": "stdout",
     "output_type": "stream",
     "text": [
      "['bouffant', 'pixie', 'crew', 'bowl']\n"
     ]
    }
   ],
   "source": [
    "cuts_under_30 = [hairstyles[i] for i in range(len(new_prices)) if new_prices[i]<30]\n",
    "print(cuts_under_30)"
   ]
  }
 ],
 "metadata": {
  "kernelspec": {
   "display_name": "Python 3",
   "language": "python",
   "name": "python3"
  },
  "language_info": {
   "codemirror_mode": {
    "name": "ipython",
    "version": 3
   },
   "file_extension": ".py",
   "mimetype": "text/x-python",
   "name": "python",
   "nbconvert_exporter": "python",
   "pygments_lexer": "ipython3",
   "version": "3.8.8"
  }
 },
 "nbformat": 4,
 "nbformat_minor": 5
}

{
 "cells": [
  {
   "cell_type": "code",
   "execution_count": 2,
   "id": "b16b3aed-d391-47e7-a7e5-bc5b3cbe3b78",
   "metadata": {},
   "outputs": [
    {
     "name": "stdout",
     "output_type": "stream",
     "text": [
      "1\n",
      "2\n",
      "3\n",
      "4\n",
      "5\n"
     ]
    }
   ],
   "source": [
    "\"\"\"\n",
    "for Loops\n",
    "\"\"\"\n",
    "nums = [1,2,3,4,5]\n",
    "for num in nums:\n",
    "    print(num)"
   ]
  },
  {
   "cell_type": "code",
   "execution_count": 6,
   "id": "b9d656a9-c3f2-468c-8169-203fec92186e",
   "metadata": {},
   "outputs": [
    {
     "name": "stdout",
     "output_type": "stream",
     "text": [
      "0\n",
      "1\n",
      "2\n",
      "3\n",
      "Warning!\n",
      "Warning!\n",
      "Warning!\n",
      "Warning!\n"
     ]
    }
   ],
   "source": [
    "for i in range(4):\n",
    "    print(i)\n",
    "    \n",
    "for i in range(4):\n",
    "    print(\"Warning!\")"
   ]
  },
  {
   "cell_type": "code",
   "execution_count": 8,
   "id": "4e39b1f4-5631-4c6c-a314-cf304789e34e",
   "metadata": {},
   "outputs": [
    {
     "name": "stdout",
     "output_type": "stream",
     "text": [
      "1\n",
      "2\n",
      "4\n",
      "5\n",
      "2\n"
     ]
    }
   ],
   "source": [
    "\"\"\"\n",
    "continue Keyword\n",
    "\"\"\"\n",
    "nums = [1,2,-1,4,-5,5,2,-9]\n",
    "for num in nums:\n",
    "    #if num is negative, we skip it.\n",
    "    if num < 0:\n",
    "        continue\n",
    "    print(num)"
   ]
  },
  {
   "cell_type": "code",
   "execution_count": 13,
   "id": "7e66b26a-affe-44b1-9dd0-fc31e246a662",
   "metadata": {},
   "outputs": [
    {
     "name": "stdout",
     "output_type": "stream",
     "text": [
      "stage1is complete\n",
      "stage2is complete\n",
      "stage3is complete\n"
     ]
    }
   ],
   "source": [
    "\"\"\"\n",
    "break Keyword\n",
    "\"\"\"\n",
    "game_plays = ['stage1','stage2','stage3','gameover','stage4','stage5']\n",
    "for play in game_plays:\n",
    "    if play == 'gameover':\n",
    "        break\n",
    "    print(play + \"is complete\")"
   ]
  },
  {
   "cell_type": "code",
   "execution_count": 15,
   "id": "69eafcd0-1cc3-4369-8046-9e863e00ee04",
   "metadata": {},
   "outputs": [
    {
     "name": "stdout",
     "output_type": "stream",
     "text": [
      "[1, 2, 3, 4, 5, 6, 7, 8, 9, 10]\n"
     ]
    }
   ],
   "source": [
    "\"\"\"\n",
    "List Comprehension\n",
    "\"\"\"\n",
    "one_to_ten = [i+1 for i in range(10)]\n",
    "print(one_to_ten)"
   ]
  },
  {
   "cell_type": "code",
   "execution_count": 20,
   "id": "6f81d68c-ae1f-409f-839b-e3f0488cbafb",
   "metadata": {},
   "outputs": [
    {
     "name": "stdout",
     "output_type": "stream",
     "text": [
      "['해리 케인', '탕기']\n"
     ]
    }
   ],
   "source": [
    "\"\"\"\n",
    "List comprehension including conditions\n",
    "\"\"\"\n",
    "hotspurs = [['손흥민','A+'],['해리 케인','F'],['탕기','F'],['델리','B'],['루카스','B+'],['이메르송','D']]\n",
    "poors = [player[0] for player in hotspurs if player[1] =='F']\n",
    "print(poors)"
   ]
  },
  {
   "cell_type": "code",
   "execution_count": 27,
   "id": "f46c5d45-d452-42d3-8daa-f7138fb6859c",
   "metadata": {},
   "outputs": [
    {
     "ename": "SyntaxError",
     "evalue": "unexpected EOF while parsing (<ipython-input-27-6077bc176a56>, line 9)",
     "output_type": "error",
     "traceback": [
      "\u001b[1;36m  File \u001b[1;32m\"<ipython-input-27-6077bc176a56>\"\u001b[1;36m, line \u001b[1;32m9\u001b[0m\n\u001b[1;33m    #print(i,\"*\",j,\"=\",i*j)\u001b[0m\n\u001b[1;37m                           ^\u001b[0m\n\u001b[1;31mSyntaxError\u001b[0m\u001b[1;31m:\u001b[0m unexpected EOF while parsing\n"
     ]
    }
   ],
   "source": [
    "\"\"\"\n",
    "Nested Loops\n",
    "\"\"\"\n",
    "one_to_nine = [i + 1 for i in range(9)]\n",
    "\n",
    "for i in one_to_nine:\n",
    "    for j in one_to_nine:\n",
    "#print(\"%d X %d = %d\" %(i,j,i*j))\n",
    "#print(i,\"*\",j,\"=\",i*j)"
   ]
  },
  {
   "cell_type": "code",
   "execution_count": 30,
   "id": "a5e8fdee-d869-486e-8745-ec317562ec75",
   "metadata": {},
   "outputs": [
    {
     "name": "stdout",
     "output_type": "stream",
     "text": [
      "참치김밥냠냠\n",
      "순대냠냠\n",
      "로제떡볶이냠냠\n",
      "김말이냠냠\n",
      "배부르다냥\n"
     ]
    }
   ],
   "source": [
    "hungry = True\n",
    "foods_on_table = ['참치김밥','순대','로제떡볶이','김말이'\n",
    "                 ,'오뎅','단무지','고로케']\n",
    "foods_num = 7\n",
    "ate_num = 0\n",
    "\n",
    "while ate_num <4 :\n",
    "    print(foods_on_table[ate_num]+\"냠냠\")\n",
    "    ate_num +=1\n",
    "print(\"배부르다냥\")"
   ]
  }
 ],
 "metadata": {
  "kernelspec": {
   "display_name": "Python 3",
   "language": "python",
   "name": "python3"
  },
  "language_info": {
   "codemirror_mode": {
    "name": "ipython",
    "version": 3
   },
   "file_extension": ".py",
   "mimetype": "text/x-python",
   "name": "python",
   "nbconvert_exporter": "python",
   "pygments_lexer": "ipython3",
   "version": "3.8.8"
  }
 },
 "nbformat": 4,
 "nbformat_minor": 5
}

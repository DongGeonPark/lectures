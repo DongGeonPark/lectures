{
 "cells": [
  {
   "cell_type": "code",
   "execution_count": 10,
   "id": "b1a9c201-aae5-4ae8-bdeb-80092895ef2e",
   "metadata": {},
   "outputs": [
    {
     "name": "stdout",
     "output_type": "stream",
     "text": [
      "Hello World!\n",
      "100\n",
      "3.14\n",
      "My name is Dong Geon Park!\n"
     ]
    }
   ],
   "source": [
    "\"\"\"\n",
    "print() function\n",
    "\n",
    "실행\n",
    "Cltr+Enter\n",
    "\n",
    "새 네모\n",
    "Shift + Enter\n",
    "\"\"\"\n",
    "print(\"Hello World!\")\n",
    "print(100)\n",
    "\n",
    "pi = 3.14\n",
    "print(pi)\n",
    "\n",
    "\n",
    "intro = \"My name is \"\n",
    "name = \"Dong Geon Park\"\n",
    "print(intro+name + \"!\")"
   ]
  },
  {
   "cell_type": "code",
   "execution_count": 12,
   "id": "663f25f6-cc75-48d1-8b17-483f0c542394",
   "metadata": {},
   "outputs": [
    {
     "name": "stdout",
     "output_type": "stream",
     "text": [
      "name =  Park Dong Geon\n",
      "Address of name:  2370745427312\n"
     ]
    }
   ],
   "source": [
    "\"\"\"\n",
    "Variables\n",
    "\n",
    "변수 : 데이터를 저장하는 개체\n",
    "파이썬은 메모리 위치 참조\n",
    "숫자, 문자, 문자열, 불리언, 그 외\n",
    "\n",
    "할당:변수에 어떤 값을 집어넣기\n",
    "-선언 및 초기화\n",
    "-(재)할당\n",
    "\n",
    "\n",
    "#Invalid cases:\n",
    "2myvar = \"Park\"\n",
    "my-var = \"Park\"\n",
    "my var = \"Park\"\n",
    "\n",
    "\"\"\"\n",
    "\n",
    "user_name = \"Park Dong Geon\"\n",
    "user_Id = \"happyon8\"\n",
    "user_email = \"happyon8@naver.com\"\n",
    "is_student = True\n",
    "user_dept = \"Sotfware\"\n",
    "user_age = 25\n",
    "user_birth = 970317\n",
    "today = 210914\n",
    "\n",
    "print('name = ',user_name)\n",
    "print('Address of name: ',id(user_name))\n"
   ]
  },
  {
   "cell_type": "code",
   "execution_count": 13,
   "id": "c9e51fd5-2985-4519-9d8b-55bf793499d0",
   "metadata": {},
   "outputs": [],
   "source": [
    "\"\"\"\n",
    "Data Types: Integers\n",
    "\"\"\"\n",
    "\n",
    "#집에 있는 세 가지 이상의 사물의 갯수를 정수 변수로 표현하시오.\n",
    "\n",
    "noteBooks = 1\n",
    "tables = 1\n",
    "bed = 2"
   ]
  },
  {
   "cell_type": "code",
   "execution_count": 14,
   "id": "cd049459-909d-46df-a8c4-befe3d8ccfaf",
   "metadata": {},
   "outputs": [],
   "source": [
    "\"\"\"\n",
    "Data Types: Real Numbers\n",
    "\"\"\"\n",
    "\n",
    "#본인이 알고있는  세 개의 실수를 변수로 정의하시오.\n",
    "pi = 3.141592\n",
    "human_temperature = 36.5\n",
    "bitcoin = 53086612.36"
   ]
  },
  {
   "cell_type": "code",
   "execution_count": 17,
   "id": "85ce3f5f-0492-4426-a442-35610ec1d8fa",
   "metadata": {},
   "outputs": [
    {
     "name": "stdout",
     "output_type": "stream",
     "text": [
      "Chicken\n",
      "Pokemon\n",
      "Avater\n",
      "ChickenPokemonAvater\n"
     ]
    }
   ],
   "source": [
    "\"\"\"\n",
    "Data Types:Strings\n",
    "\"\"\"\n",
    "favorite_food = \"Chicken\"\n",
    "favorite_game = \"Pokemon\"\n",
    "favorite_movie = 'Avater'\n",
    "\n",
    "print(favorite_food)\n",
    "print(favorite_game)\n",
    "print(favorite_movie)\n",
    "\n",
    "favorites = favorite_food + favorite_game + favorite_movie\n",
    "print(favorites)"
   ]
  },
  {
   "cell_type": "code",
   "execution_count": 1,
   "id": "ddf05206-f74c-4aba-a06b-e154cb333c42",
   "metadata": {},
   "outputs": [
    {
     "name": "stdout",
     "output_type": "stream",
     "text": [
      "8\n",
      "4\n",
      "0\n"
     ]
    }
   ],
   "source": [
    "\"\"\"\n",
    "x-Equals Operations\n",
    "\"\"\"\n",
    "\n",
    "a = 2\n",
    "a -= 2\n",
    "b = 2\n",
    "b *= 2\n",
    "c = 2\n",
    "c **=3\n",
    "print(c)\n",
    "print(b)\n",
    "print(a)"
   ]
  },
  {
   "cell_type": "code",
   "execution_count": 4,
   "id": "c7f6b9f2-6056-4432-9fe8-a062323df5a3",
   "metadata": {},
   "outputs": [
    {
     "name": "stdout",
     "output_type": "stream",
     "text": [
      "동건 True\n",
      "시험 False\n",
      "<class 'bool'>\n",
      "<class 'str'>\n"
     ]
    }
   ],
   "source": [
    "is_tested = True\n",
    "is_passed = False\n",
    "print(\"동건\", is_tested)\n",
    "print(\"시험\", is_passed)\n",
    "print(type(is_tested))\n",
    "\n",
    "a=\"3.14\"\n",
    "print(type(a))"
   ]
  },
  {
   "cell_type": "code",
   "execution_count": 7,
   "id": "9a4a4cb6-b7a5-4f48-943f-cd91332bc859",
   "metadata": {},
   "outputs": [
    {
     "name": "stdout",
     "output_type": "stream",
     "text": [
      "True\n",
      "True\n",
      "False\n"
     ]
    }
   ],
   "source": [
    "print('Yes'==\"Yes\")\n",
    "print((2>1)==(5<10))\n",
    "c='2'\n",
    "d=2\n",
    "print(c==d)"
   ]
  },
  {
   "cell_type": "code",
   "execution_count": 12,
   "id": "6afef438-8016-4dcb-93e7-dee4b7b00ea1",
   "metadata": {},
   "outputs": [
    {
     "name": "stdout",
     "output_type": "stream",
     "text": [
      "True\n",
      "True\n",
      "False\n",
      "True\n",
      "False\n",
      "True\n"
     ]
    }
   ],
   "source": [
    "print(True or True)\n",
    "print(True or False)\n",
    "print(False or False)\n",
    "print(1 < 2 or 3 < 1)\n",
    "print(3 < 1 or 1 > 6)\n",
    "print(1 == 1 or 1 < 2)"
   ]
  },
  {
   "cell_type": "code",
   "execution_count": 15,
   "id": "e1d08ffa-8635-4923-90f6-8815174bc42e",
   "metadata": {},
   "outputs": [
    {
     "name": "stdout",
     "output_type": "stream",
     "text": [
      "말티푸\n",
      "True\n"
     ]
    }
   ],
   "source": [
    "\"\"\"\n",
    "Conditional statements (if/elif/else)\n",
    "\"\"\"\n",
    "puppy = \"maltepoo\"\n",
    "is_yes = False\n",
    "\n",
    "if puppy == \"maltese\":\n",
    "    print(\"말티즈\")\n",
    "    is_yes = True\n",
    "    \n",
    "elif puppy == \"poodle\":\n",
    "    print(\"푸들\")\n",
    "    is_yes = True\n",
    "    \n",
    "else:\n",
    "    print(\"말티푸\")\n",
    "    is_yes = True\n",
    "    \n",
    "print(is_yes)"
   ]
  },
  {
   "cell_type": "code",
   "execution_count": 18,
   "id": "ffcc1f34-0b0f-4148-aa5b-f4cada64e7fb",
   "metadata": {},
   "outputs": [
    {
     "name": "stdout",
     "output_type": "stream",
     "text": [
      "[Error]\n",
      "continue\n"
     ]
    }
   ],
   "source": [
    "\"\"\"\n",
    "Exception Handling\n",
    "\"\"\"\n",
    "x=1\n",
    "try:\n",
    "    print(y)\n",
    "except:\n",
    "    print('[Error]')\n",
    "print('continue')"
   ]
  }
 ],
 "metadata": {
  "kernelspec": {
   "display_name": "Python 3",
   "language": "python",
   "name": "python3"
  },
  "language_info": {
   "codemirror_mode": {
    "name": "ipython",
    "version": 3
   },
   "file_extension": ".py",
   "mimetype": "text/x-python",
   "name": "python",
   "nbconvert_exporter": "python",
   "pygments_lexer": "ipython3",
   "version": "3.8.8"
  }
 },
 "nbformat": 4,
 "nbformat_minor": 5
}

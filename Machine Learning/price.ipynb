{
 "cells": [
  {
   "cell_type": "code",
   "execution_count": 11,
   "id": "73732203-0e46-466c-9055-4ed2a1e9e95e",
   "metadata": {},
   "outputs": [
    {
     "name": "stdout",
     "output_type": "stream",
     "text": [
      "b_zero =  0.07793885084056264\n",
      "b_one =  -29.58796350330499\n"
     ]
    }
   ],
   "source": [
    "import numpy as np\n",
    "\n",
    "#data\n",
    "x= np.array([1380,3120,3520,1130,1030,1720,3920,1490,1860,3430,2000,3660,2500,1220,1390])\n",
    "y = np.array([76,216,238,69,50,119,282,81,132,228,145,251,170,71,29])\n",
    "\n",
    "#ave\n",
    "mx = np.mean(x)\n",
    "my = np.mean(y)\n",
    "\n",
    "#분모\n",
    "divisor = sum([(mx-i)**2 for i in x])\n",
    "\n",
    "#분자\n",
    "def top(x, mx, y, my):\n",
    "    d = 0\n",
    "    for i in range(len(x)):\n",
    "        d += (x[i] - mx) * (y[i] - my)\n",
    "    return d\n",
    "\n",
    "dividend = top(x, mx, y, my)\n",
    "\n",
    "b_zero = dividend/divisor\n",
    "b_one = my - (mx * b_zero)\n",
    "print(\"b_zero = \", b_zero)\n",
    "print(\"b_one = \",b_one)"
   ]
  },
  {
   "cell_type": "code",
   "execution_count": 14,
   "id": "c580de70-ac82-4660-b67b-78c9582d58c2",
   "metadata": {},
   "outputs": [
    {
     "name": "stdout",
     "output_type": "stream",
     "text": [
      "0.07793885084056264\n",
      "-29.58796350330499\n"
     ]
    }
   ],
   "source": [
    "import numpy as np\n",
    "\n",
    "#data\n",
    "x= np.array([1380,3120,3520,1130,1030,1720,3920,1490,1860,3430,2000,3660,2500,1220,1390])\n",
    "y = np.array([76,216,238,69,50,119,282,81,132,228,145,251,170,71,29])\n",
    "\n",
    "mx = np.mean(x)\n",
    "my = np.mean(y)\n",
    "\n",
    "bunmo = sum([(i - mx)**2 for i in x])\n",
    "\n",
    "def top(x,mx,y,my):\n",
    "    d = 0\n",
    "    for i in range(len(x)):\n",
    "        d += (x[i]-mx)*(y[i]-my)\n",
    "    return d\n",
    "\n",
    "bunja = top(x,mx,y,my)\n",
    "\n",
    "b_z = bunja/bunmo\n",
    "b_o = my - (mx * b_z)\n",
    "print(b_z)\n",
    "print(b_o)"
   ]
  }
 ],
 "metadata": {
  "kernelspec": {
   "display_name": "Python 3",
   "language": "python",
   "name": "python3"
  },
  "language_info": {
   "codemirror_mode": {
    "name": "ipython",
    "version": 3
   },
   "file_extension": ".py",
   "mimetype": "text/x-python",
   "name": "python",
   "nbconvert_exporter": "python",
   "pygments_lexer": "ipython3",
   "version": "3.8.8"
  }
 },
 "nbformat": 4,
 "nbformat_minor": 5
}
